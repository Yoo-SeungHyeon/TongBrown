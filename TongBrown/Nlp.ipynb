{
 "cells": [
  {
   "cell_type": "code",
   "execution_count": 29,
   "id": "85149b10",
   "metadata": {},
   "outputs": [],
   "source": [
    "import pandas as pd\n",
    "import os\n",
    "from nltk.tokenize import word_tokenize\n",
    "from nltk.tokenize import sent_tokenize\n",
    "import spacy\n",
    "from spacy.lang.en.examples import sentences"
   ]
  },
  {
   "cell_type": "code",
   "execution_count": 148,
   "id": "9de203cf",
   "metadata": {},
   "outputs": [],
   "source": [
    "#csv파일 읽기\n",
    "Main_df=pd.read_csv('C:/Users/effor/바탕 화면/통브라운/TongBrown/main_df.csv')"
   ]
  },
  {
   "cell_type": "code",
   "execution_count": 149,
   "id": "feb4a3f5",
   "metadata": {},
   "outputs": [
    {
     "data": {
      "text/html": [
       "<div>\n",
       "<style scoped>\n",
       "    .dataframe tbody tr th:only-of-type {\n",
       "        vertical-align: middle;\n",
       "    }\n",
       "\n",
       "    .dataframe tbody tr th {\n",
       "        vertical-align: top;\n",
       "    }\n",
       "\n",
       "    .dataframe thead th {\n",
       "        text-align: right;\n",
       "    }\n",
       "</style>\n",
       "<table border=\"1\" class=\"dataframe\">\n",
       "  <thead>\n",
       "    <tr style=\"text-align: right;\">\n",
       "      <th></th>\n",
       "      <th>Unnamed: 0</th>\n",
       "      <th>title</th>\n",
       "      <th>view</th>\n",
       "      <th>u_date</th>\n",
       "      <th>link</th>\n",
       "      <th>e_date</th>\n",
       "    </tr>\n",
       "  </thead>\n",
       "  <tbody>\n",
       "    <tr>\n",
       "      <th>0</th>\n",
       "      <td>0</td>\n",
       "      <td>Don t forget to pay at the ATM at the convenie...</td>\n",
       "      <td>700000</td>\n",
       "      <td>3일 전</td>\n",
       "      <td>https://youtube.com/watch?v=So8XCU5GcCs&amp;pp=ygU...</td>\n",
       "      <td>20230527</td>\n",
       "    </tr>\n",
       "    <tr>\n",
       "      <th>1</th>\n",
       "      <td>1</td>\n",
       "      <td>Announcers who tongued the amount of the excus...</td>\n",
       "      <td>75000</td>\n",
       "      <td>3주 전</td>\n",
       "      <td>https://youtube.com/watch?v=4TexwJdsVQI&amp;pp=ygU...</td>\n",
       "      <td>20230527</td>\n",
       "    </tr>\n",
       "    <tr>\n",
       "      <th>2</th>\n",
       "      <td>2</td>\n",
       "      <td>Korea Economic TV News lowered brokerage fees ...</td>\n",
       "      <td>11000</td>\n",
       "      <td>2주 전</td>\n",
       "      <td>https://youtube.com/watch?v=SnY2vGDGjUw&amp;pp=ygU...</td>\n",
       "      <td>20230527</td>\n",
       "    </tr>\n",
       "    <tr>\n",
       "      <th>3</th>\n",
       "      <td>3</td>\n",
       "      <td>Daily Economy TV News Financial Underprivilege...</td>\n",
       "      <td>555</td>\n",
       "      <td>2주 전</td>\n",
       "      <td>https://youtube.com/watch?v=PCoRLCRd4Ks&amp;pp=ygU...</td>\n",
       "      <td>20230527</td>\n",
       "    </tr>\n",
       "    <tr>\n",
       "      <th>4</th>\n",
       "      <td>4</td>\n",
       "      <td>Since June  people like this have been unable ...</td>\n",
       "      <td>140000</td>\n",
       "      <td>4일 전</td>\n",
       "      <td>https://youtube.com/watch?v=DUef-LQ-Flk&amp;pp=ygU...</td>\n",
       "      <td>20230527</td>\n",
       "    </tr>\n",
       "  </tbody>\n",
       "</table>\n",
       "</div>"
      ],
      "text/plain": [
       "   Unnamed: 0                                              title    view  \\\n",
       "0           0  Don t forget to pay at the ATM at the convenie...  700000   \n",
       "1           1  Announcers who tongued the amount of the excus...   75000   \n",
       "2           2  Korea Economic TV News lowered brokerage fees ...   11000   \n",
       "3           3  Daily Economy TV News Financial Underprivilege...     555   \n",
       "4           4  Since June  people like this have been unable ...  140000   \n",
       "\n",
       "  u_date                                               link    e_date  \n",
       "0   3일 전  https://youtube.com/watch?v=So8XCU5GcCs&pp=ygU...  20230527  \n",
       "1   3주 전  https://youtube.com/watch?v=4TexwJdsVQI&pp=ygU...  20230527  \n",
       "2   2주 전  https://youtube.com/watch?v=SnY2vGDGjUw&pp=ygU...  20230527  \n",
       "3   2주 전  https://youtube.com/watch?v=PCoRLCRd4Ks&pp=ygU...  20230527  \n",
       "4   4일 전  https://youtube.com/watch?v=DUef-LQ-Flk&pp=ygU...  20230527  "
      ]
     },
     "execution_count": 149,
     "metadata": {},
     "output_type": "execute_result"
    }
   ],
   "source": [
    "Main_df.head()"
   ]
  },
  {
   "cell_type": "code",
   "execution_count": 150,
   "id": "e71d0ef1",
   "metadata": {},
   "outputs": [],
   "source": [
    "#열마다 추출\n",
    "titles = list(Main_df['title'])\n",
    "view = list(Main_df['view'])\n",
    "u_date = list(Main_df['u_date'])\n",
    "link = list(Main_df['link'])\n",
    "e_date = list(Main_df['e_date'])"
   ]
  },
  {
   "cell_type": "markdown",
   "id": "33b5fd17",
   "metadata": {},
   "source": [
    "nlkt_tokenize"
   ]
  },
  {
   "cell_type": "code",
   "execution_count": 151,
   "id": "bd9371ca",
   "metadata": {},
   "outputs": [
    {
     "name": "stderr",
     "output_type": "stream",
     "text": [
      "[nltk_data] Downloading package punkt to\n",
      "[nltk_data]     C:\\Users\\effor\\AppData\\Roaming\\nltk_data...\n",
      "[nltk_data]   Package punkt is already up-to-date!\n"
     ]
    },
    {
     "data": {
      "text/plain": [
       "True"
      ]
     },
     "execution_count": 151,
     "metadata": {},
     "output_type": "execute_result"
    }
   ],
   "source": [
    "import nltk\n",
    "nltk.download('punkt')"
   ]
  },
  {
   "cell_type": "code",
   "execution_count": 152,
   "id": "bdc5db3a",
   "metadata": {},
   "outputs": [],
   "source": [
    "Word=[]\n",
    "View=[]\n",
    "U_date=[]\n",
    "Link=[]\n",
    "E_date=[]\n",
    "i=0\n",
    "\n",
    "for title in titles:\n",
    "    doc = word_tokenize(title)\n",
    "    for d in doc:\n",
    "        Word.append(d)\n",
    "        View.append(view[i])\n",
    "        U_date.append(u_date[i])\n",
    "        Link.append(link[i])\n",
    "        E_date.append(e_date[i])\n",
    "    i = i+1"
   ]
  },
  {
   "cell_type": "code",
   "execution_count": 153,
   "id": "9c3aafbe",
   "metadata": {},
   "outputs": [],
   "source": [
    "newdic = {'WORD' : Word, 'VIEW' : View, 'U_DATE' : U_date, 'LINK' : Link, 'E_DATE' : E_date}"
   ]
  },
  {
   "cell_type": "code",
   "execution_count": 154,
   "id": "e29df73d",
   "metadata": {},
   "outputs": [],
   "source": [
    "N_df = pd.DataFrame(newdic)"
   ]
  },
  {
   "cell_type": "code",
   "execution_count": 155,
   "id": "11b52bf1",
   "metadata": {
    "scrolled": true
   },
   "outputs": [
    {
     "data": {
      "text/html": [
       "<div>\n",
       "<style scoped>\n",
       "    .dataframe tbody tr th:only-of-type {\n",
       "        vertical-align: middle;\n",
       "    }\n",
       "\n",
       "    .dataframe tbody tr th {\n",
       "        vertical-align: top;\n",
       "    }\n",
       "\n",
       "    .dataframe thead th {\n",
       "        text-align: right;\n",
       "    }\n",
       "</style>\n",
       "<table border=\"1\" class=\"dataframe\">\n",
       "  <thead>\n",
       "    <tr style=\"text-align: right;\">\n",
       "      <th></th>\n",
       "      <th>WORD</th>\n",
       "      <th>VIEW</th>\n",
       "      <th>U_DATE</th>\n",
       "      <th>LINK</th>\n",
       "      <th>E_DATE</th>\n",
       "    </tr>\n",
       "  </thead>\n",
       "  <tbody>\n",
       "    <tr>\n",
       "      <th>0</th>\n",
       "      <td>Don</td>\n",
       "      <td>700000</td>\n",
       "      <td>3일 전</td>\n",
       "      <td>https://youtube.com/watch?v=So8XCU5GcCs&amp;pp=ygU...</td>\n",
       "      <td>20230527</td>\n",
       "    </tr>\n",
       "    <tr>\n",
       "      <th>1</th>\n",
       "      <td>t</td>\n",
       "      <td>700000</td>\n",
       "      <td>3일 전</td>\n",
       "      <td>https://youtube.com/watch?v=So8XCU5GcCs&amp;pp=ygU...</td>\n",
       "      <td>20230527</td>\n",
       "    </tr>\n",
       "    <tr>\n",
       "      <th>2</th>\n",
       "      <td>forget</td>\n",
       "      <td>700000</td>\n",
       "      <td>3일 전</td>\n",
       "      <td>https://youtube.com/watch?v=So8XCU5GcCs&amp;pp=ygU...</td>\n",
       "      <td>20230527</td>\n",
       "    </tr>\n",
       "    <tr>\n",
       "      <th>3</th>\n",
       "      <td>to</td>\n",
       "      <td>700000</td>\n",
       "      <td>3일 전</td>\n",
       "      <td>https://youtube.com/watch?v=So8XCU5GcCs&amp;pp=ygU...</td>\n",
       "      <td>20230527</td>\n",
       "    </tr>\n",
       "    <tr>\n",
       "      <th>4</th>\n",
       "      <td>pay</td>\n",
       "      <td>700000</td>\n",
       "      <td>3일 전</td>\n",
       "      <td>https://youtube.com/watch?v=So8XCU5GcCs&amp;pp=ygU...</td>\n",
       "      <td>20230527</td>\n",
       "    </tr>\n",
       "    <tr>\n",
       "      <th>...</th>\n",
       "      <td>...</td>\n",
       "      <td>...</td>\n",
       "      <td>...</td>\n",
       "      <td>...</td>\n",
       "      <td>...</td>\n",
       "    </tr>\n",
       "    <tr>\n",
       "      <th>1562</th>\n",
       "      <td>is</td>\n",
       "      <td>332</td>\n",
       "      <td>2주 전</td>\n",
       "      <td>https://youtube.com/watch?v=Zi_CLA5Bp10&amp;pp=ygU...</td>\n",
       "      <td>20230527</td>\n",
       "    </tr>\n",
       "    <tr>\n",
       "      <th>1563</th>\n",
       "      <td>no</td>\n",
       "      <td>332</td>\n",
       "      <td>2주 전</td>\n",
       "      <td>https://youtube.com/watch?v=Zi_CLA5Bp10&amp;pp=ygU...</td>\n",
       "      <td>20230527</td>\n",
       "    </tr>\n",
       "    <tr>\n",
       "      <th>1564</th>\n",
       "      <td>one</td>\n",
       "      <td>332</td>\n",
       "      <td>2주 전</td>\n",
       "      <td>https://youtube.com/watch?v=Zi_CLA5Bp10&amp;pp=ygU...</td>\n",
       "      <td>20230527</td>\n",
       "    </tr>\n",
       "    <tr>\n",
       "      <th>1565</th>\n",
       "      <td>looking</td>\n",
       "      <td>332</td>\n",
       "      <td>2주 전</td>\n",
       "      <td>https://youtube.com/watch?v=Zi_CLA5Bp10&amp;pp=ygU...</td>\n",
       "      <td>20230527</td>\n",
       "    </tr>\n",
       "    <tr>\n",
       "      <th>1566</th>\n",
       "      <td>for</td>\n",
       "      <td>332</td>\n",
       "      <td>2주 전</td>\n",
       "      <td>https://youtube.com/watch?v=Zi_CLA5Bp10&amp;pp=ygU...</td>\n",
       "      <td>20230527</td>\n",
       "    </tr>\n",
       "  </tbody>\n",
       "</table>\n",
       "<p>1567 rows × 5 columns</p>\n",
       "</div>"
      ],
      "text/plain": [
       "         WORD    VIEW U_DATE  \\\n",
       "0         Don  700000   3일 전   \n",
       "1           t  700000   3일 전   \n",
       "2      forget  700000   3일 전   \n",
       "3          to  700000   3일 전   \n",
       "4         pay  700000   3일 전   \n",
       "...       ...     ...    ...   \n",
       "1562       is     332   2주 전   \n",
       "1563       no     332   2주 전   \n",
       "1564      one     332   2주 전   \n",
       "1565  looking     332   2주 전   \n",
       "1566      for     332   2주 전   \n",
       "\n",
       "                                                   LINK    E_DATE  \n",
       "0     https://youtube.com/watch?v=So8XCU5GcCs&pp=ygU...  20230527  \n",
       "1     https://youtube.com/watch?v=So8XCU5GcCs&pp=ygU...  20230527  \n",
       "2     https://youtube.com/watch?v=So8XCU5GcCs&pp=ygU...  20230527  \n",
       "3     https://youtube.com/watch?v=So8XCU5GcCs&pp=ygU...  20230527  \n",
       "4     https://youtube.com/watch?v=So8XCU5GcCs&pp=ygU...  20230527  \n",
       "...                                                 ...       ...  \n",
       "1562  https://youtube.com/watch?v=Zi_CLA5Bp10&pp=ygU...  20230527  \n",
       "1563  https://youtube.com/watch?v=Zi_CLA5Bp10&pp=ygU...  20230527  \n",
       "1564  https://youtube.com/watch?v=Zi_CLA5Bp10&pp=ygU...  20230527  \n",
       "1565  https://youtube.com/watch?v=Zi_CLA5Bp10&pp=ygU...  20230527  \n",
       "1566  https://youtube.com/watch?v=Zi_CLA5Bp10&pp=ygU...  20230527  \n",
       "\n",
       "[1567 rows x 5 columns]"
      ]
     },
     "execution_count": 155,
     "metadata": {},
     "output_type": "execute_result"
    }
   ],
   "source": [
    "N_df"
   ]
  },
  {
   "cell_type": "code",
   "execution_count": 156,
   "id": "5531e564",
   "metadata": {},
   "outputs": [],
   "source": [
    "N_df.to_csv('WordDataFrame.csv')"
   ]
  },
  {
   "cell_type": "code",
   "execution_count": 157,
   "id": "7dd0121f",
   "metadata": {},
   "outputs": [],
   "source": [
    "nWord = list(N_df['WORD'])"
   ]
  },
  {
   "cell_type": "code",
   "execution_count": 158,
   "id": "b8fdbecb",
   "metadata": {},
   "outputs": [
    {
     "data": {
      "text/plain": [
       "list"
      ]
     },
     "execution_count": 158,
     "metadata": {},
     "output_type": "execute_result"
    }
   ],
   "source": [
    "type(nWord)"
   ]
  },
  {
   "cell_type": "code",
   "execution_count": 159,
   "id": "bffeed97",
   "metadata": {},
   "outputs": [],
   "source": [
    "# #중복제거1\n",
    "# result1 = dict.fromkeys(nWord) # 리스트 값들을 key 로 변경\n",
    "# undupl_word = list(result1) # list(dict.fromkeys(arr))\n",
    "# len(undupl_word)"
   ]
  },
  {
   "cell_type": "code",
   "execution_count": 160,
   "id": "e7211853",
   "metadata": {},
   "outputs": [
    {
     "data": {
      "text/plain": [
       "767"
      ]
     },
     "execution_count": 160,
     "metadata": {},
     "output_type": "execute_result"
    }
   ],
   "source": [
    "#중복제거2\n",
    "word_set = set(nWord)\n",
    "ndw_list = list(word_set)\n",
    "len(ndw_list)"
   ]
  },
  {
   "cell_type": "code",
   "execution_count": 161,
   "id": "5e85d5e0",
   "metadata": {},
   "outputs": [],
   "source": [
    "word_count = []\n",
    "for i in range(len(ndw_list)):\n",
    "    word_count.append(len(N_df[N_df['WORD']==ndw_list[i]]))"
   ]
  },
  {
   "cell_type": "code",
   "execution_count": 162,
   "id": "28a7f4d8",
   "metadata": {},
   "outputs": [],
   "source": [
    "w_df = pd.DataFrame({'word':ndw_list, 'count':word_count})"
   ]
  },
  {
   "cell_type": "code",
   "execution_count": 163,
   "id": "6bf6fc7a",
   "metadata": {},
   "outputs": [],
   "source": [
    "w_df_s = w_df.sort_values('count', ascending=False)"
   ]
  },
  {
   "cell_type": "code",
   "execution_count": 165,
   "id": "da40620c",
   "metadata": {},
   "outputs": [
    {
     "data": {
      "text/plain": [
       "767"
      ]
     },
     "execution_count": 165,
     "metadata": {},
     "output_type": "execute_result"
    }
   ],
   "source": [
    "len(w_df_s)"
   ]
  },
  {
   "cell_type": "code",
   "execution_count": null,
   "id": "f5642ef9",
   "metadata": {},
   "outputs": [],
   "source": []
  },
  {
   "cell_type": "code",
   "execution_count": null,
   "id": "e652a4e2",
   "metadata": {},
   "outputs": [],
   "source": []
  },
  {
   "cell_type": "code",
   "execution_count": null,
   "id": "c867ca52",
   "metadata": {},
   "outputs": [],
   "source": [
    "#### 어간 추출 ####\n",
    "a = word_tokenize(doc.text)\n",
    "from nltk.stem import PorterStemmer, LancasterStemmer, RegexpStemmer\n",
    "porter_stemmer, lancaster_stemmer = PorterStemmer(),LancasterStemmer()\n",
    "porter = [porter_stemmer.stem(i) for i in a]\n",
    "print(\"PorterStemmer 사용하여 어간추출\")\n",
    "print(porter)\n",
    "\n",
    "lancaster = [lancaster_stemmer.stem(i) for i in a]\n",
    "print(\"LancasterStemmer 사용하여 어간추출\")\n",
    "print(lancaster)\n",
    "\n",
    "regexp_stemmer = RegexpStemmer(\"Apple\") # ()안 특정 표현식 일괄 제거\n",
    "regexp = [regexp_stemmer.stem(i) for i in a]\n",
    "print(\"RegexpStemmer 사용하여 특정 단어 제거\")\n",
    "print(regexp)"
   ]
  }
 ],
 "metadata": {
  "kernelspec": {
   "display_name": "Python 3 (ipykernel)",
   "language": "python",
   "name": "python3"
  },
  "language_info": {
   "codemirror_mode": {
    "name": "ipython",
    "version": 3
   },
   "file_extension": ".py",
   "mimetype": "text/x-python",
   "name": "python",
   "nbconvert_exporter": "python",
   "pygments_lexer": "ipython3",
   "version": "3.10.9"
  }
 },
 "nbformat": 4,
 "nbformat_minor": 5
}
