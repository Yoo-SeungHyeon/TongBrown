{
 "cells": [
  {
   "cell_type": "code",
   "execution_count": 1,
   "id": "f184b81b",
   "metadata": {},
   "outputs": [],
   "source": [
    "import requests\n",
    "from bs4 import BeautifulSoup\n",
    "import cx_Oracle\n",
    "import re"
   ]
  },
  {
   "cell_type": "code",
   "execution_count": 2,
   "id": "741ed373",
   "metadata": {},
   "outputs": [],
   "source": [
    "def cleansing_sentence(input_string):\n",
    "    string_pattern = re.compile(r'[^ㄱ-힣 0-9 a-z A-Z]')\n",
    "    cleansing_string = string_pattern.sub('', input_string)\n",
    "    return cleansing_string"
   ]
  },
  {
   "cell_type": "code",
   "execution_count": 3,
   "id": "79a78685",
   "metadata": {},
   "outputs": [],
   "source": [
    "def url_parsing(response,url_code):\n",
    "    if response.status_code == 200:\n",
    "        soup = BeautifulSoup(response.text, \"html.parser\")\n",
    "\n",
    "        div = soup.select_one('div.list_content')\n",
    "\n",
    "        titles = div.select('div > div > a > span.subject_fixed')\n",
    "        counts = div.select('div > div > span.hit')\n",
    "        date = div.select('div > div > span > span.timestamp')\n",
    "        # link = div.select('div >div > a.list_subject')\n",
    "        title_list =[]\n",
    "    \n",
    "        i=0\n",
    "        for title in titles:\n",
    "            title = cleansing_sentence(title.get_text())\n",
    "            title_list.append(title.strip())\n",
    "            counts[i] = counts[i].get_text().strip()\n",
    "            date[i] = date[i].get_text().strip()\n",
    "            #link[i] = link[i].get('href')\n",
    "            print(\"제목 : \",title_list[i])\n",
    "            print(\"조회수 : \",counts[i])\n",
    "            print(\"날짜 : \",date[i])\n",
    "            #print(\"링크 : \",link[i])\n",
    "            print(\"-----------------------------------------------\")\n",
    "        \n",
    "            i = i + 1\n",
    "        #db_insert(url_code,title_list, counts,date,link)\n",
    "        db_insert(url_code,title_list, counts,date)"
   ]
  },
  {
   "cell_type": "code",
   "execution_count": 5,
   "id": "bc2157cc",
   "metadata": {},
   "outputs": [
    {
     "ename": "DatabaseError",
     "evalue": "DPI-1047: Cannot locate a 64-bit Oracle Client library: \"The specified module could not be found\". See https://cx-oracle.readthedocs.io/en/latest/user_guide/installation.html for help",
     "output_type": "error",
     "traceback": [
      "\u001b[1;31m---------------------------------------------------------------------------\u001b[0m",
      "\u001b[1;31mDatabaseError\u001b[0m                             Traceback (most recent call last)",
      "Cell \u001b[1;32mIn [5], line 1\u001b[0m\n\u001b[1;32m----> 1\u001b[0m conn \u001b[38;5;241m=\u001b[39m \u001b[43mcx_Oracle\u001b[49m\u001b[38;5;241;43m.\u001b[39;49m\u001b[43mconnect\u001b[49m\u001b[43m(\u001b[49m\u001b[43muser\u001b[49m\u001b[38;5;241;43m=\u001b[39;49m\u001b[38;5;124;43m'\u001b[39;49m\u001b[38;5;124;43madmin\u001b[39;49m\u001b[38;5;124;43m'\u001b[39;49m\u001b[43m,\u001b[49m\u001b[43m \u001b[49m\u001b[43mpassword\u001b[49m\u001b[38;5;241;43m=\u001b[39;49m\u001b[38;5;124;43m'\u001b[39;49m\u001b[38;5;124;43mTongbrown@23\u001b[39;49m\u001b[38;5;124;43m'\u001b[39;49m\u001b[43m,\u001b[49m\u001b[43m \u001b[49m\u001b[43mdsn\u001b[49m\u001b[38;5;241;43m=\u001b[39;49m\u001b[38;5;124;43m'\u001b[39;49m\u001b[38;5;124;43mtongbrown_high\u001b[39;49m\u001b[38;5;124;43m'\u001b[39;49m\u001b[43m)\u001b[49m\n\u001b[0;32m      3\u001b[0m \u001b[38;5;28mprint\u001b[39m(\u001b[38;5;124m'\u001b[39m\u001b[38;5;124m'\u001b[39m)\n\u001b[0;32m      4\u001b[0m \u001b[38;5;28mprint\u001b[39m(\u001b[38;5;124m'\u001b[39m\u001b[38;5;124mDB connect 성공!!\u001b[39m\u001b[38;5;124m'\u001b[39m)\n",
      "\u001b[1;31mDatabaseError\u001b[0m: DPI-1047: Cannot locate a 64-bit Oracle Client library: \"The specified module could not be found\". See https://cx-oracle.readthedocs.io/en/latest/user_guide/installation.html for help"
     ]
    }
   ],
   "source": [
    "conn = cx_Oracle.connect(user='admin', password='Tongbrown@23', dsn='tongbrown_high')\n",
    "\n",
    "print('')\n",
    "print('DB connect 성공!!')\n",
    "print('')\n",
    "\n",
    "cs = conn.cursor()"
   ]
  },
  {
   "cell_type": "code",
   "execution_count": null,
   "id": "356a0318",
   "metadata": {},
   "outputs": [],
   "source": [
    "def db_insert(url_code,title_list, counts, date): # DB 저장 함수(크롤링 추출 자료 INSET)\n",
    "    conn = cx_Oracle.connect(user='admin', password='Tongbrown@23', dsn='tongbrown_high')\n",
    "\n",
    "    print('')\n",
    "    print('DB connect 성공!!')\n",
    "    print('')\n",
    "\n",
    "    cs = conn.cursor()\n",
    "    \n",
    "    sql_get = \"\"\"  SELECT * FROM HEAD_TABLE\n",
    "                    WHERE ROWNUM =1 \"\"\"\n",
    "    \n",
    "    sql_head = \"\"\"INSERT INTO HEAD_TABLE\n",
    "    (CODE_URL,DATA_TITLE,DATA_COUNT,DATE_WRITE, EXTRACT_DATE,id) \n",
    "    VALUES (:1,:2,:3,:4,TO_CHAR(SYSDATE,'YYYYMMDD'),clien_sequence.NEXTVAL)\"\"\"\n",
    "    \n",
    "    sql = \"\"\"INSERT INTO CLIEN_TEST_TABLE\n",
    "    (CODE_URL,DATA_TITLE,DATA_COUNT,DATE_WRITE, EXTRACT_DATE,id) \n",
    "    VALUES (:1,:2,:3,:4,TO_CHAR(SYSDATE,'YYYYMMDD'),clien_sequence.NEXTVAL)\"\"\"\n",
    "\n",
    "    i = 0\n",
    "    \n",
    "    for title in title_list:\n",
    "        cs.execute(sql, (url_code, title_list[i], counts[i],date[i]))\n",
    "        i = i + 1\n",
    "    print(\"[%d]건 INSERT 완료\" % 30)\n",
    "    \n",
    "    \n",
    "    \n",
    "    cs.close()\n",
    "    conn.commit()\n",
    "    conn.close()"
   ]
  },
  {
   "cell_type": "code",
   "execution_count": null,
   "id": "46857fc4",
   "metadata": {},
   "outputs": [],
   "source": [
    "def re_url():\n",
    "    for page in range(1,500):\n",
    "        url2 = \"https://www.clien.net/service/board/cm_stock?&od=T31&category=0&po={}\".format(str(page))\n",
    "        url_code = \"03\"\n",
    "        response = requests.get(url2)\n",
    "        url_parsing(response,url_code)\n",
    "        print(\"\\n\\n\\n\\n\\n\\n\",page)"
   ]
  },
  {
   "cell_type": "code",
   "execution_count": null,
   "id": "6d816f8b",
   "metadata": {},
   "outputs": [],
   "source": [
    "if __name__ == '__main__':\n",
    "    cx_Oracle.init_oracle_client(lib_dir=r\"C:\\instantclient-basic-windows.x64-21.9.0.0.0dbru\\instantclient_21_9\")\n",
    "    re_url()"
   ]
  }
 ],
 "metadata": {
  "kernelspec": {
   "display_name": "Python 3 (ipykernel)",
   "language": "python",
   "name": "python3"
  },
  "language_info": {
   "codemirror_mode": {
    "name": "ipython",
    "version": 3
   },
   "file_extension": ".py",
   "mimetype": "text/x-python",
   "name": "python",
   "nbconvert_exporter": "python",
   "pygments_lexer": "ipython3",
   "version": "3.9.12"
  }
 },
 "nbformat": 4,
 "nbformat_minor": 5
}
