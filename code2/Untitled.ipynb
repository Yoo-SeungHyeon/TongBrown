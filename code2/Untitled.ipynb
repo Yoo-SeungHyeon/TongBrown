{
 "cells": [
  {
   "cell_type": "code",
   "execution_count": 1,
   "id": "438db3e2",
   "metadata": {},
   "outputs": [],
   "source": [
    "import pandas as pd\n",
    "import numpy as np\n",
    "import cx_Oracle\n",
    "from matplotlib import pyplot as plt\n",
    "from datetime import datetime\n",
    "from sklearn.linear_model import LinearRegression\n",
    "import re"
   ]
  },
  {
   "cell_type": "code",
   "execution_count": 2,
   "id": "2938e9c2",
   "metadata": {},
   "outputs": [],
   "source": [
    "cx_Oracle.init_oracle_client(lib_dir=r\"C:\\instantclient-basic-windows.x64-21.9.0.0.0dbru\\instantclient_21_9\")"
   ]
  },
  {
   "cell_type": "code",
   "execution_count": 3,
   "id": "b972f318",
   "metadata": {},
   "outputs": [],
   "source": [
    "#db에 연결\n",
    "conn = cx_Oracle.connect(user='admin', password='Tongbrown@23', dsn='tongbrown_high')\n",
    "#커서 생성\n",
    "cs = conn.cursor()\n",
    "#sql 실행\n",
    "sql = \"select * from clien_noun\"\n",
    "rs = cs.execute(sql)\n",
    "#행,열 추출\n",
    "row = cs.fetchall()\n",
    "colname = cs.description\n",
    "col = []\n",
    "for i in colname:\n",
    "    col.append(i[0])\n",
    "#DataFrame 생성\n",
    "ctdf =  pd.DataFrame(row,columns = col)\n",
    "#중복 word 제거\n",
    "word = ctdf[['NOUN']].values.tolist()\n",
    "\n",
    "word1 = sum(word,[])\n",
    "\n",
    "word_set = set(word1)\n",
    "\n",
    "word_list = list(word_set)"
   ]
  },
  {
   "cell_type": "code",
   "execution_count": 4,
   "id": "96495fbf",
   "metadata": {},
   "outputs": [
    {
     "data": {
      "text/plain": [
       "0"
      ]
     },
     "execution_count": 4,
     "metadata": {},
     "output_type": "execute_result"
    }
   ],
   "source": [
    "#300번 넘게 언급된 단어만\n",
    "many_word = []\n",
    "for i in range(len(word_list)):\n",
    "    word_len = len(ctdf[ctdf['NOUN']==word_list[i]])\n",
    "    if word_len >= 300:\n",
    "        many_word.append(word_list[i])\n",
    "len(many_word)"
   ]
  },
  {
   "cell_type": "code",
   "execution_count": null,
   "id": "0939372b",
   "metadata": {},
   "outputs": [],
   "source": []
  }
 ],
 "metadata": {
  "kernelspec": {
   "display_name": "Python 3 (ipykernel)",
   "language": "python",
   "name": "python3"
  },
  "language_info": {
   "codemirror_mode": {
    "name": "ipython",
    "version": 3
   },
   "file_extension": ".py",
   "mimetype": "text/x-python",
   "name": "python",
   "nbconvert_exporter": "python",
   "pygments_lexer": "ipython3",
   "version": "3.10.9"
  }
 },
 "nbformat": 4,
 "nbformat_minor": 5
}
