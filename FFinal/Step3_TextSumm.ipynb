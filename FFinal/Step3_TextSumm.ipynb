{
 "cells": [
  {
   "cell_type": "code",
   "execution_count": 1,
   "id": "e3762c58",
   "metadata": {},
   "outputs": [],
   "source": [
    "import pandas as pd\n",
    "import numpy as np\n",
    "import cx_Oracle"
   ]
  },
  {
   "cell_type": "code",
   "execution_count": 2,
   "id": "b018662b",
   "metadata": {},
   "outputs": [],
   "source": [
    "#오라클 연결\n",
    "cx_Oracle.init_oracle_client(lib_dir=r\"C:\\instantclient-basic-windows.x64-21.9.0.0.0dbru\\instantclient_21_9\")"
   ]
  },
  {
   "cell_type": "code",
   "execution_count": 3,
   "id": "72a33295",
   "metadata": {},
   "outputs": [],
   "source": [
    "#db에 연결\n",
    "conn = cx_Oracle.connect(user='admin', password='Tongbrown@23', dsn='tongbrown_high')\n",
    "#커서 생성\n",
    "cs = conn.cursor()"
   ]
  },
  {
   "cell_type": "code",
   "execution_count": 137,
   "id": "df5edde8",
   "metadata": {},
   "outputs": [],
   "source": [
    "#sql 실행\n",
    "sql = \"SELECT * FROM YC_TABLE\"\n",
    "rs = cs.execute(sql)"
   ]
  },
  {
   "cell_type": "code",
   "execution_count": 138,
   "id": "90a7c068",
   "metadata": {},
   "outputs": [],
   "source": [
    "#행,열 추출\n",
    "row = cs.fetchall()\n",
    "colname = cs.description\n",
    "col = []\n",
    "for i in colname:\n",
    "    col.append(i[0])"
   ]
  },
  {
   "cell_type": "code",
   "execution_count": 139,
   "id": "202798e3",
   "metadata": {},
   "outputs": [
    {
     "data": {
      "text/html": [
       "<div>\n",
       "<style scoped>\n",
       "    .dataframe tbody tr th:only-of-type {\n",
       "        vertical-align: middle;\n",
       "    }\n",
       "\n",
       "    .dataframe tbody tr th {\n",
       "        vertical-align: top;\n",
       "    }\n",
       "\n",
       "    .dataframe thead th {\n",
       "        text-align: right;\n",
       "    }\n",
       "</style>\n",
       "<table border=\"1\" class=\"dataframe\">\n",
       "  <thead>\n",
       "    <tr style=\"text-align: right;\">\n",
       "      <th></th>\n",
       "      <th>DATA_LINK</th>\n",
       "      <th>DATA_COMMENT</th>\n",
       "    </tr>\n",
       "  </thead>\n",
       "  <tbody>\n",
       "  </tbody>\n",
       "</table>\n",
       "</div>"
      ],
      "text/plain": [
       "Empty DataFrame\n",
       "Columns: [DATA_LINK, DATA_COMMENT]\n",
       "Index: []"
      ]
     },
     "execution_count": 139,
     "metadata": {},
     "output_type": "execute_result"
    }
   ],
   "source": [
    "df =  pd.DataFrame(row,columns = col)\n",
    "df"
   ]
  },
  {
   "cell_type": "code",
   "execution_count": 140,
   "id": "fcdc72f7",
   "metadata": {},
   "outputs": [],
   "source": [
    "link = df['DATA_LINK']"
   ]
  },
  {
   "cell_type": "code",
   "execution_count": 16,
   "id": "52bca7d4",
   "metadata": {},
   "outputs": [],
   "source": [
    "ls = set(link)"
   ]
  },
  {
   "cell_type": "code",
   "execution_count": 18,
   "id": "d2a502ff",
   "metadata": {},
   "outputs": [],
   "source": [
    "ll = list(ls)"
   ]
  },
  {
   "cell_type": "code",
   "execution_count": 141,
   "id": "8b9de5f0",
   "metadata": {},
   "outputs": [],
   "source": [
    "link_count=[]\n",
    "j=0\n",
    "for i in range(len(ll)):\n",
    "    link_count.append(len(df[df['DATA_LINK']==ll[j]]))\n",
    "    j=j+1"
   ]
  },
  {
   "cell_type": "code",
   "execution_count": 142,
   "id": "12fe076e",
   "metadata": {},
   "outputs": [
    {
     "data": {
      "text/plain": [
       "[0, 0, 0, 0, 0]"
      ]
     },
     "execution_count": 142,
     "metadata": {},
     "output_type": "execute_result"
    }
   ],
   "source": [
    "link_count"
   ]
  },
  {
   "cell_type": "code",
   "execution_count": 143,
   "id": "fd69da1b",
   "metadata": {},
   "outputs": [],
   "source": [
    "start = 164+135+228"
   ]
  },
  {
   "cell_type": "code",
   "execution_count": 144,
   "id": "506b06e1",
   "metadata": {},
   "outputs": [],
   "source": [
    "end = start+517"
   ]
  },
  {
   "cell_type": "code",
   "execution_count": 145,
   "id": "b2ab9635",
   "metadata": {},
   "outputs": [],
   "source": [
    "df4 = df[start:end]"
   ]
  },
  {
   "cell_type": "code",
   "execution_count": 31,
   "id": "ef8578d9",
   "metadata": {},
   "outputs": [],
   "source": [
    "texts4 = df4['DATA_COMMENT']"
   ]
  },
  {
   "cell_type": "code",
   "execution_count": 36,
   "id": "dee15c7e",
   "metadata": {},
   "outputs": [],
   "source": [
    "tl = list(texts4)"
   ]
  },
  {
   "cell_type": "code",
   "execution_count": 44,
   "id": "07c92281",
   "metadata": {},
   "outputs": [],
   "source": [
    "def convertString(arr):\n",
    "    str_result = \"\"\n",
    "    for s in arr:\n",
    "        str_result += str(s)\n",
    "\n",
    "    return str_result"
   ]
  },
  {
   "cell_type": "code",
   "execution_count": 129,
   "id": "c0f4925b",
   "metadata": {},
   "outputs": [],
   "source": [
    "df = pd.DataFrame({'context' : tl})"
   ]
  },
  {
   "cell_type": "code",
   "execution_count": 130,
   "id": "0652848d",
   "metadata": {},
   "outputs": [
    {
     "data": {
      "text/html": [
       "<div>\n",
       "<style scoped>\n",
       "    .dataframe tbody tr th:only-of-type {\n",
       "        vertical-align: middle;\n",
       "    }\n",
       "\n",
       "    .dataframe tbody tr th {\n",
       "        vertical-align: top;\n",
       "    }\n",
       "\n",
       "    .dataframe thead th {\n",
       "        text-align: right;\n",
       "    }\n",
       "</style>\n",
       "<table border=\"1\" class=\"dataframe\">\n",
       "  <thead>\n",
       "    <tr style=\"text-align: right;\">\n",
       "      <th></th>\n",
       "      <th>context</th>\n",
       "    </tr>\n",
       "  </thead>\n",
       "  <tbody>\n",
       "    <tr>\n",
       "      <th>0</th>\n",
       "      <td>상승을 해야 됩니다 또 반면에</td>\n",
       "    </tr>\n",
       "    <tr>\n",
       "      <th>1</th>\n",
       "      <td>구글의 모회사 알파벳 추가는</td>\n",
       "    </tr>\n",
       "    <tr>\n",
       "      <th>2</th>\n",
       "      <td>0.13% 하락했습니다 알파벳 역시</td>\n",
       "    </tr>\n",
       "    <tr>\n",
       "      <th>3</th>\n",
       "      <td>예상치를 상위한 1분기 실적을 보고</td>\n",
       "    </tr>\n",
       "    <tr>\n",
       "      <th>4</th>\n",
       "      <td>있는데</td>\n",
       "    </tr>\n",
       "    <tr>\n",
       "      <th>...</th>\n",
       "      <td>...</td>\n",
       "    </tr>\n",
       "    <tr>\n",
       "      <th>512</th>\n",
       "      <td>인스타 사진을 찍어서 좋아요만 받을</td>\n",
       "    </tr>\n",
       "    <tr>\n",
       "      <th>513</th>\n",
       "      <td>수 있다면 전혀 10만원이 아깝지</td>\n",
       "    </tr>\n",
       "    <tr>\n",
       "      <th>514</th>\n",
       "      <td>않습니다</td>\n",
       "    </tr>\n",
       "    <tr>\n",
       "      <th>515</th>\n",
       "      <td>맛은 중요한게 아닙니다</td>\n",
       "    </tr>\n",
       "    <tr>\n",
       "      <th>516</th>\n",
       "      <td>얼마나 남들보다 예쁘게 빨리 찍어</td>\n",
       "    </tr>\n",
       "  </tbody>\n",
       "</table>\n",
       "<p>517 rows × 1 columns</p>\n",
       "</div>"
      ],
      "text/plain": [
       "                 context\n",
       "0       상승을 해야 됩니다 또 반면에\n",
       "1        구글의 모회사 알파벳 추가는\n",
       "2    0.13% 하락했습니다 알파벳 역시\n",
       "3    예상치를 상위한 1분기 실적을 보고\n",
       "4                    있는데\n",
       "..                   ...\n",
       "512  인스타 사진을 찍어서 좋아요만 받을\n",
       "513   수 있다면 전혀 10만원이 아깝지\n",
       "514                 않습니다\n",
       "515         맛은 중요한게 아닙니다\n",
       "516   얼마나 남들보다 예쁘게 빨리 찍어\n",
       "\n",
       "[517 rows x 1 columns]"
      ]
     },
     "execution_count": 130,
     "metadata": {},
     "output_type": "execute_result"
    }
   ],
   "source": [
    "df"
   ]
  },
  {
   "cell_type": "code",
   "execution_count": 146,
   "id": "3c9db0c7",
   "metadata": {},
   "outputs": [],
   "source": [
    "ctext = convertString(tl)"
   ]
  },
  {
   "cell_type": "code",
   "execution_count": 147,
   "id": "a8f5be05",
   "metadata": {},
   "outputs": [],
   "source": [
    "#ctext"
   ]
  },
  {
   "cell_type": "code",
   "execution_count": 148,
   "id": "b5d3f48d",
   "metadata": {},
   "outputs": [],
   "source": [
    "text = ctext.replace('다 ','다.')"
   ]
  },
  {
   "cell_type": "code",
   "execution_count": 149,
   "id": "996ad1c6",
   "metadata": {},
   "outputs": [],
   "source": [
    "text = text.replace('요 ','요.')"
   ]
  },
  {
   "cell_type": "code",
   "execution_count": 150,
   "id": "77033ef8",
   "metadata": {},
   "outputs": [],
   "source": [
    "text = text.replace('죠 ','죠.')"
   ]
  },
  {
   "cell_type": "code",
   "execution_count": 151,
   "id": "a34bafe7",
   "metadata": {},
   "outputs": [],
   "source": [
    "text = text.replace('까 ','까?')"
   ]
  },
  {
   "cell_type": "code",
   "execution_count": 152,
   "id": "5d403fb2",
   "metadata": {},
   "outputs": [],
   "source": [
    "text_list = ctext.split()"
   ]
  },
  {
   "cell_type": "code",
   "execution_count": 153,
   "id": "4e90912c",
   "metadata": {},
   "outputs": [
    {
     "data": {
      "text/plain": [
       "1358"
      ]
     },
     "execution_count": 153,
     "metadata": {},
     "output_type": "execute_result"
    }
   ],
   "source": [
    "len(text_list)"
   ]
  },
  {
   "cell_type": "code",
   "execution_count": 154,
   "id": "35110bf0",
   "metadata": {
    "scrolled": true
   },
   "outputs": [],
   "source": [
    "# from gensim.summarization.summarizer import summarize"
   ]
  },
  {
   "cell_type": "code",
   "execution_count": 155,
   "id": "c91de7a1",
   "metadata": {},
   "outputs": [],
   "source": [
    "# print(summarize(text, ratio=0.1))"
   ]
  },
  {
   "cell_type": "code",
   "execution_count": 156,
   "id": "7961f9c6",
   "metadata": {},
   "outputs": [],
   "source": [
    "from konlpy.tag import Okt"
   ]
  },
  {
   "cell_type": "code",
   "execution_count": 157,
   "id": "ac51aa9f",
   "metadata": {},
   "outputs": [],
   "source": [
    "#konlpy 세팅\n",
    "okt = Okt()"
   ]
  },
  {
   "cell_type": "code",
   "execution_count": 158,
   "id": "4069a32f",
   "metadata": {},
   "outputs": [],
   "source": [
    "ctdf = pd.DataFrame({'TITLE':text_list})"
   ]
  },
  {
   "cell_type": "code",
   "execution_count": 159,
   "id": "3bf2987b",
   "metadata": {},
   "outputs": [
    {
     "ename": "KeyError",
     "evalue": "'context'",
     "output_type": "error",
     "traceback": [
      "\u001b[1;31m---------------------------------------------------------------------------\u001b[0m",
      "\u001b[1;31mKeyError\u001b[0m                                  Traceback (most recent call last)",
      "File \u001b[1;32m~\\anaconda3\\lib\\site-packages\\pandas\\core\\indexes\\base.py:3802\u001b[0m, in \u001b[0;36mIndex.get_loc\u001b[1;34m(self, key, method, tolerance)\u001b[0m\n\u001b[0;32m   3801\u001b[0m \u001b[38;5;28;01mtry\u001b[39;00m:\n\u001b[1;32m-> 3802\u001b[0m     \u001b[38;5;28;01mreturn\u001b[39;00m \u001b[38;5;28;43mself\u001b[39;49m\u001b[38;5;241;43m.\u001b[39;49m\u001b[43m_engine\u001b[49m\u001b[38;5;241;43m.\u001b[39;49m\u001b[43mget_loc\u001b[49m\u001b[43m(\u001b[49m\u001b[43mcasted_key\u001b[49m\u001b[43m)\u001b[49m\n\u001b[0;32m   3803\u001b[0m \u001b[38;5;28;01mexcept\u001b[39;00m \u001b[38;5;167;01mKeyError\u001b[39;00m \u001b[38;5;28;01mas\u001b[39;00m err:\n",
      "File \u001b[1;32m~\\anaconda3\\lib\\site-packages\\pandas\\_libs\\index.pyx:138\u001b[0m, in \u001b[0;36mpandas._libs.index.IndexEngine.get_loc\u001b[1;34m()\u001b[0m\n",
      "File \u001b[1;32m~\\anaconda3\\lib\\site-packages\\pandas\\_libs\\index.pyx:165\u001b[0m, in \u001b[0;36mpandas._libs.index.IndexEngine.get_loc\u001b[1;34m()\u001b[0m\n",
      "File \u001b[1;32mpandas\\_libs\\hashtable_class_helper.pxi:5745\u001b[0m, in \u001b[0;36mpandas._libs.hashtable.PyObjectHashTable.get_item\u001b[1;34m()\u001b[0m\n",
      "File \u001b[1;32mpandas\\_libs\\hashtable_class_helper.pxi:5753\u001b[0m, in \u001b[0;36mpandas._libs.hashtable.PyObjectHashTable.get_item\u001b[1;34m()\u001b[0m\n",
      "\u001b[1;31mKeyError\u001b[0m: 'context'",
      "\nThe above exception was the direct cause of the following exception:\n",
      "\u001b[1;31mKeyError\u001b[0m                                  Traceback (most recent call last)",
      "Cell \u001b[1;32mIn[159], line 2\u001b[0m\n\u001b[0;32m      1\u001b[0m \u001b[38;5;66;03m#제목 추출\u001b[39;00m\n\u001b[1;32m----> 2\u001b[0m title\u001b[38;5;241m=\u001b[39mnp\u001b[38;5;241m.\u001b[39marray(\u001b[43mdf\u001b[49m\u001b[43m[\u001b[49m\u001b[38;5;124;43m'\u001b[39;49m\u001b[38;5;124;43mcontext\u001b[39;49m\u001b[38;5;124;43m'\u001b[39;49m\u001b[43m]\u001b[49m)\n",
      "File \u001b[1;32m~\\anaconda3\\lib\\site-packages\\pandas\\core\\frame.py:3807\u001b[0m, in \u001b[0;36mDataFrame.__getitem__\u001b[1;34m(self, key)\u001b[0m\n\u001b[0;32m   3805\u001b[0m \u001b[38;5;28;01mif\u001b[39;00m \u001b[38;5;28mself\u001b[39m\u001b[38;5;241m.\u001b[39mcolumns\u001b[38;5;241m.\u001b[39mnlevels \u001b[38;5;241m>\u001b[39m \u001b[38;5;241m1\u001b[39m:\n\u001b[0;32m   3806\u001b[0m     \u001b[38;5;28;01mreturn\u001b[39;00m \u001b[38;5;28mself\u001b[39m\u001b[38;5;241m.\u001b[39m_getitem_multilevel(key)\n\u001b[1;32m-> 3807\u001b[0m indexer \u001b[38;5;241m=\u001b[39m \u001b[38;5;28;43mself\u001b[39;49m\u001b[38;5;241;43m.\u001b[39;49m\u001b[43mcolumns\u001b[49m\u001b[38;5;241;43m.\u001b[39;49m\u001b[43mget_loc\u001b[49m\u001b[43m(\u001b[49m\u001b[43mkey\u001b[49m\u001b[43m)\u001b[49m\n\u001b[0;32m   3808\u001b[0m \u001b[38;5;28;01mif\u001b[39;00m is_integer(indexer):\n\u001b[0;32m   3809\u001b[0m     indexer \u001b[38;5;241m=\u001b[39m [indexer]\n",
      "File \u001b[1;32m~\\anaconda3\\lib\\site-packages\\pandas\\core\\indexes\\base.py:3804\u001b[0m, in \u001b[0;36mIndex.get_loc\u001b[1;34m(self, key, method, tolerance)\u001b[0m\n\u001b[0;32m   3802\u001b[0m     \u001b[38;5;28;01mreturn\u001b[39;00m \u001b[38;5;28mself\u001b[39m\u001b[38;5;241m.\u001b[39m_engine\u001b[38;5;241m.\u001b[39mget_loc(casted_key)\n\u001b[0;32m   3803\u001b[0m \u001b[38;5;28;01mexcept\u001b[39;00m \u001b[38;5;167;01mKeyError\u001b[39;00m \u001b[38;5;28;01mas\u001b[39;00m err:\n\u001b[1;32m-> 3804\u001b[0m     \u001b[38;5;28;01mraise\u001b[39;00m \u001b[38;5;167;01mKeyError\u001b[39;00m(key) \u001b[38;5;28;01mfrom\u001b[39;00m \u001b[38;5;21;01merr\u001b[39;00m\n\u001b[0;32m   3805\u001b[0m \u001b[38;5;28;01mexcept\u001b[39;00m \u001b[38;5;167;01mTypeError\u001b[39;00m:\n\u001b[0;32m   3806\u001b[0m     \u001b[38;5;66;03m# If we have a listlike key, _check_indexing_error will raise\u001b[39;00m\n\u001b[0;32m   3807\u001b[0m     \u001b[38;5;66;03m#  InvalidIndexError. Otherwise we fall through and re-raise\u001b[39;00m\n\u001b[0;32m   3808\u001b[0m     \u001b[38;5;66;03m#  the TypeError.\u001b[39;00m\n\u001b[0;32m   3809\u001b[0m     \u001b[38;5;28mself\u001b[39m\u001b[38;5;241m.\u001b[39m_check_indexing_error(key)\n",
      "\u001b[1;31mKeyError\u001b[0m: 'context'"
     ]
    }
   ],
   "source": [
    "#제목 추출\n",
    "title=np.array(df['context'])"
   ]
  },
  {
   "cell_type": "code",
   "execution_count": null,
   "id": "a3c895c5",
   "metadata": {},
   "outputs": [],
   "source": [
    "#제목에서 명사만 추출해서 리스트로(2차원 리스트)\n",
    "sep_title=[]\n",
    "for i in range(len(title)):\n",
    "    sep_title.append(okt.nouns(title[i]))"
   ]
  },
  {
   "cell_type": "code",
   "execution_count": null,
   "id": "9b88fb6b",
   "metadata": {},
   "outputs": [],
   "source": [
    "#2차원 -> 1차원\n",
    "words=sum(sep_title,[])"
   ]
  },
  {
   "cell_type": "code",
   "execution_count": null,
   "id": "a1bc890e",
   "metadata": {},
   "outputs": [],
   "source": [
    "#데이터프레임 생성\n",
    "df = pd.DataFrame({'words':words})"
   ]
  },
  {
   "cell_type": "code",
   "execution_count": null,
   "id": "3d52f87a",
   "metadata": {},
   "outputs": [],
   "source": [
    "#중복 단어 제외\n",
    "ws = set(words)\n",
    "wl = list(ws)"
   ]
  },
  {
   "cell_type": "code",
   "execution_count": null,
   "id": "16105a1c",
   "metadata": {},
   "outputs": [],
   "source": [
    "#단어 갯수 확인\n",
    "word_num=[]\n",
    "j=0\n",
    "for i in range(len(wl)):\n",
    "    word_num.append(len(df[df['words']==wl[j]]))\n",
    "    j=j+1"
   ]
  },
  {
   "cell_type": "code",
   "execution_count": null,
   "id": "3cd25c59",
   "metadata": {},
   "outputs": [],
   "source": [
    "#데이터프레임 생성 및 정렬\n",
    "df1 = pd.DataFrame({'word':wl,'count':word_num})\n",
    "df1s = df1.sort_values('count',ascending=False)"
   ]
  },
  {
   "cell_type": "code",
   "execution_count": 160,
   "id": "540dfe2f",
   "metadata": {},
   "outputs": [
    {
     "data": {
      "text/html": [
       "<div>\n",
       "<style scoped>\n",
       "    .dataframe tbody tr th:only-of-type {\n",
       "        vertical-align: middle;\n",
       "    }\n",
       "\n",
       "    .dataframe tbody tr th {\n",
       "        vertical-align: top;\n",
       "    }\n",
       "\n",
       "    .dataframe thead th {\n",
       "        text-align: right;\n",
       "    }\n",
       "</style>\n",
       "<table border=\"1\" class=\"dataframe\">\n",
       "  <thead>\n",
       "    <tr style=\"text-align: right;\">\n",
       "      <th></th>\n",
       "      <th>word</th>\n",
       "      <th>count</th>\n",
       "    </tr>\n",
       "  </thead>\n",
       "  <tbody>\n",
       "    <tr>\n",
       "      <th>547</th>\n",
       "      <td>것</td>\n",
       "      <td>29</td>\n",
       "    </tr>\n",
       "    <tr>\n",
       "      <th>600</th>\n",
       "      <td>소비</td>\n",
       "      <td>19</td>\n",
       "    </tr>\n",
       "    <tr>\n",
       "      <th>73</th>\n",
       "      <td>수</td>\n",
       "      <td>15</td>\n",
       "    </tr>\n",
       "    <tr>\n",
       "      <th>548</th>\n",
       "      <td>또</td>\n",
       "      <td>14</td>\n",
       "    </tr>\n",
       "    <tr>\n",
       "      <th>109</th>\n",
       "      <td>가능성</td>\n",
       "      <td>12</td>\n",
       "    </tr>\n",
       "    <tr>\n",
       "      <th>319</th>\n",
       "      <td>미국</td>\n",
       "      <td>12</td>\n",
       "    </tr>\n",
       "    <tr>\n",
       "      <th>322</th>\n",
       "      <td>은행</td>\n",
       "      <td>10</td>\n",
       "    </tr>\n",
       "    <tr>\n",
       "      <th>628</th>\n",
       "      <td>금리</td>\n",
       "      <td>9</td>\n",
       "    </tr>\n",
       "    <tr>\n",
       "      <th>328</th>\n",
       "      <td>모습</td>\n",
       "      <td>8</td>\n",
       "    </tr>\n",
       "    <tr>\n",
       "      <th>465</th>\n",
       "      <td>다음</td>\n",
       "      <td>8</td>\n",
       "    </tr>\n",
       "    <tr>\n",
       "      <th>408</th>\n",
       "      <td>뉴스</td>\n",
       "      <td>8</td>\n",
       "    </tr>\n",
       "    <tr>\n",
       "      <th>473</th>\n",
       "      <td>인상</td>\n",
       "      <td>8</td>\n",
       "    </tr>\n",
       "    <tr>\n",
       "      <th>610</th>\n",
       "      <td>대한</td>\n",
       "      <td>8</td>\n",
       "    </tr>\n",
       "    <tr>\n",
       "      <th>671</th>\n",
       "      <td>오늘</td>\n",
       "      <td>8</td>\n",
       "    </tr>\n",
       "    <tr>\n",
       "      <th>354</th>\n",
       "      <td>위기</td>\n",
       "      <td>7</td>\n",
       "    </tr>\n",
       "    <tr>\n",
       "      <th>121</th>\n",
       "      <td>를</td>\n",
       "      <td>7</td>\n",
       "    </tr>\n",
       "    <tr>\n",
       "      <th>110</th>\n",
       "      <td>물건</td>\n",
       "      <td>7</td>\n",
       "    </tr>\n",
       "    <tr>\n",
       "      <th>67</th>\n",
       "      <td>이미지</td>\n",
       "      <td>7</td>\n",
       "    </tr>\n",
       "    <tr>\n",
       "      <th>336</th>\n",
       "      <td>생각</td>\n",
       "      <td>7</td>\n",
       "    </tr>\n",
       "    <tr>\n",
       "      <th>678</th>\n",
       "      <td>시장</td>\n",
       "      <td>7</td>\n",
       "    </tr>\n",
       "  </tbody>\n",
       "</table>\n",
       "</div>"
      ],
      "text/plain": [
       "    word  count\n",
       "547    것     29\n",
       "600   소비     19\n",
       "73     수     15\n",
       "548    또     14\n",
       "109  가능성     12\n",
       "319   미국     12\n",
       "322   은행     10\n",
       "628   금리      9\n",
       "328   모습      8\n",
       "465   다음      8\n",
       "408   뉴스      8\n",
       "473   인상      8\n",
       "610   대한      8\n",
       "671   오늘      8\n",
       "354   위기      7\n",
       "121    를      7\n",
       "110   물건      7\n",
       "67   이미지      7\n",
       "336   생각      7\n",
       "678   시장      7"
      ]
     },
     "execution_count": 160,
     "metadata": {},
     "output_type": "execute_result"
    }
   ],
   "source": [
    "#상위 11개\n",
    "df1s.head(20)"
   ]
  },
  {
   "cell_type": "code",
   "execution_count": null,
   "id": "2cb1e273",
   "metadata": {},
   "outputs": [],
   "source": []
  },
  {
   "cell_type": "code",
   "execution_count": null,
   "id": "ae31676e",
   "metadata": {},
   "outputs": [],
   "source": []
  },
  {
   "cell_type": "code",
   "execution_count": null,
   "id": "46b3eb96",
   "metadata": {},
   "outputs": [],
   "source": []
  },
  {
   "cell_type": "code",
   "execution_count": null,
   "id": "195fa8c1",
   "metadata": {},
   "outputs": [],
   "source": []
  },
  {
   "cell_type": "code",
   "execution_count": null,
   "id": "12407d20",
   "metadata": {},
   "outputs": [],
   "source": []
  }
 ],
 "metadata": {
  "kernelspec": {
   "display_name": "Python 3 (ipykernel)",
   "language": "python",
   "name": "python3"
  },
  "language_info": {
   "codemirror_mode": {
    "name": "ipython",
    "version": 3
   },
   "file_extension": ".py",
   "mimetype": "text/x-python",
   "name": "python",
   "nbconvert_exporter": "python",
   "pygments_lexer": "ipython3",
   "version": "3.10.9"
  }
 },
 "nbformat": 4,
 "nbformat_minor": 5
}
