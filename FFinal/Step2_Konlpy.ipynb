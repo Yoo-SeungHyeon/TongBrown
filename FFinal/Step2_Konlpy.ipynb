{
 "cells": [
  {
   "cell_type": "code",
   "execution_count": 1,
   "id": "15c94120",
   "metadata": {},
   "outputs": [],
   "source": [
    "import pandas as pd\n",
    "import numpy as np\n",
    "import cx_Oracle\n",
    "from konlpy.tag import Okt"
   ]
  },
  {
   "cell_type": "code",
   "execution_count": 2,
   "id": "943e813e",
   "metadata": {},
   "outputs": [],
   "source": [
    "#오라클 연결\n",
    "cx_Oracle.init_oracle_client(lib_dir=r\"C:\\instantclient-basic-windows.x64-21.9.0.0.0dbru\\instantclient_21_9\")"
   ]
  },
  {
   "cell_type": "code",
   "execution_count": 3,
   "id": "c416550a",
   "metadata": {},
   "outputs": [],
   "source": [
    "#db에 연결\n",
    "conn = cx_Oracle.connect(user='admin', password='Tongbrown@23', dsn='tongbrown_high')\n",
    "#커서 생성\n",
    "cs = conn.cursor()"
   ]
  },
  {
   "cell_type": "code",
   "execution_count": 4,
   "id": "ec15739a",
   "metadata": {},
   "outputs": [],
   "source": [
    "#sql 실행\n",
    "sql = \"SELECT * FROM YOUTUBE_TABLE\"\n",
    "rs = cs.execute(sql)"
   ]
  },
  {
   "cell_type": "code",
   "execution_count": 5,
   "id": "5877438e",
   "metadata": {},
   "outputs": [],
   "source": [
    "#행,열 추출\n",
    "row = cs.fetchall()\n",
    "colname = cs.description\n",
    "col = []\n",
    "for i in colname:\n",
    "    col.append(i[0])"
   ]
  },
  {
   "cell_type": "code",
   "execution_count": 6,
   "id": "d8909f8b",
   "metadata": {},
   "outputs": [
    {
     "data": {
      "text/html": [
       "<div>\n",
       "<style scoped>\n",
       "    .dataframe tbody tr th:only-of-type {\n",
       "        vertical-align: middle;\n",
       "    }\n",
       "\n",
       "    .dataframe tbody tr th {\n",
       "        vertical-align: top;\n",
       "    }\n",
       "\n",
       "    .dataframe thead th {\n",
       "        text-align: right;\n",
       "    }\n",
       "</style>\n",
       "<table border=\"1\" class=\"dataframe\">\n",
       "  <thead>\n",
       "    <tr style=\"text-align: right;\">\n",
       "      <th></th>\n",
       "      <th>TITLE</th>\n",
       "      <th>VIEWS</th>\n",
       "      <th>UPLOAD_DATE</th>\n",
       "      <th>LINK</th>\n",
       "      <th>EXTRACT_DATE</th>\n",
       "    </tr>\n",
       "  </thead>\n",
       "  <tbody>\n",
       "    <tr>\n",
       "      <th>0</th>\n",
       "      <td>에코프로 테슬라 급등한다고 했죠</td>\n",
       "      <td>2주 전</td>\n",
       "      <td>202305</td>\n",
       "      <td>https://youtube.com/watch?v=qbK0VMMhxrU&amp;pp=ygU...</td>\n",
       "      <td>202305</td>\n",
       "    </tr>\n",
       "    <tr>\n",
       "      <th>1</th>\n",
       "      <td>힐링여행자 미국 주식 브리핑 은행 초대형 위기 진짜가 온다 계속되는 은행권 불안에도...</td>\n",
       "      <td>6일 전</td>\n",
       "      <td>202305</td>\n",
       "      <td>https://youtube.com/watch?v=aCkOC2TpVuA&amp;pp=ygU...</td>\n",
       "      <td>202305</td>\n",
       "    </tr>\n",
       "    <tr>\n",
       "      <th>2</th>\n",
       "      <td>해외 정치 뉴스 by AI 5월 8일 월</td>\n",
       "      <td>1개월 전</td>\n",
       "      <td>202305</td>\n",
       "      <td>https://youtube.com/watch?v=0gm61Cnq5OA&amp;pp=ygU...</td>\n",
       "      <td>202305</td>\n",
       "    </tr>\n",
       "    <tr>\n",
       "      <th>3</th>\n",
       "      <td>검찰 항소로 권도형대표 다시 구금 한국 송환은미국 대공황 직전 경고중국 암호화폐 거...</td>\n",
       "      <td>2주 전</td>\n",
       "      <td>202305</td>\n",
       "      <td>https://youtube.com/watch?v=pEoRmrU6zeQ&amp;pp=ygU...</td>\n",
       "      <td>202305</td>\n",
       "    </tr>\n",
       "    <tr>\n",
       "      <th>4</th>\n",
       "      <td>연준발 주가 상승 시나리오</td>\n",
       "      <td>3일 전</td>\n",
       "      <td>202305</td>\n",
       "      <td>https://youtube.com/watch?v=M-gbtVNgd2s&amp;pp=ygU...</td>\n",
       "      <td>202305</td>\n",
       "    </tr>\n",
       "    <tr>\n",
       "      <th>...</th>\n",
       "      <td>...</td>\n",
       "      <td>...</td>\n",
       "      <td>...</td>\n",
       "      <td>...</td>\n",
       "      <td>...</td>\n",
       "    </tr>\n",
       "    <tr>\n",
       "      <th>512</th>\n",
       "      <td>지역은행 우려감FOMC 경계매물미국증시 하락 마감  오늘 우리 증시는</td>\n",
       "      <td>3주 전</td>\n",
       "      <td>202305</td>\n",
       "      <td>https://youtube.com/watch?v=_XXBTUgdooY&amp;pp=ygU...</td>\n",
       "      <td>202305</td>\n",
       "    </tr>\n",
       "    <tr>\n",
       "      <th>513</th>\n",
       "      <td>김대호의 경제읽기 한전 25조 자구책 마련전기요금 인상 전망은  연합뉴스TV Yon...</td>\n",
       "      <td>3주 전</td>\n",
       "      <td>202305</td>\n",
       "      <td>https://youtube.com/watch?v=zelyeCdixo0&amp;pp=ygU...</td>\n",
       "      <td>202305</td>\n",
       "    </tr>\n",
       "    <tr>\n",
       "      <th>514</th>\n",
       "      <td>소규모 사업장의 만기 연장이 힘들어지면 경제 위기로 전이도 가능채권투자 방송 해설 ...</td>\n",
       "      <td>2주 전</td>\n",
       "      <td>202305</td>\n",
       "      <td>https://youtube.com/watch?v=RXQCIgO42nE&amp;pp=ygU...</td>\n",
       "      <td>202305</td>\n",
       "    </tr>\n",
       "    <tr>\n",
       "      <th>515</th>\n",
       "      <td>인터뷰 예사롭지 않은 조짐 2008년 금융위기와 2023년 은행 쇼크를 만든 금리 ...</td>\n",
       "      <td>3주 전</td>\n",
       "      <td>202305</td>\n",
       "      <td>https://youtube.com/watch?v=SfV6DU7l2fE&amp;pp=ygU...</td>\n",
       "      <td>202305</td>\n",
       "    </tr>\n",
       "    <tr>\n",
       "      <th>516</th>\n",
       "      <td>애플 테슬라 엔비디아 코인베이스 급등 미국증시 상승이유  상승종목은</td>\n",
       "      <td>2주 전</td>\n",
       "      <td>202305</td>\n",
       "      <td>https://youtube.com/watch?v=OPWk-BC39VA&amp;pp=ygU...</td>\n",
       "      <td>202305</td>\n",
       "    </tr>\n",
       "  </tbody>\n",
       "</table>\n",
       "<p>517 rows × 5 columns</p>\n",
       "</div>"
      ],
      "text/plain": [
       "                                                 TITLE  VIEWS UPLOAD_DATE  \\\n",
       "0                                    에코프로 테슬라 급등한다고 했죠   2주 전      202305   \n",
       "1    힐링여행자 미국 주식 브리핑 은행 초대형 위기 진짜가 온다 계속되는 은행권 불안에도...   6일 전      202305   \n",
       "2                               해외 정치 뉴스 by AI 5월 8일 월  1개월 전      202305   \n",
       "3    검찰 항소로 권도형대표 다시 구금 한국 송환은미국 대공황 직전 경고중국 암호화폐 거...   2주 전      202305   \n",
       "4                                       연준발 주가 상승 시나리오   3일 전      202305   \n",
       "..                                                 ...    ...         ...   \n",
       "512             지역은행 우려감FOMC 경계매물미국증시 하락 마감  오늘 우리 증시는   3주 전      202305   \n",
       "513  김대호의 경제읽기 한전 25조 자구책 마련전기요금 인상 전망은  연합뉴스TV Yon...   3주 전      202305   \n",
       "514  소규모 사업장의 만기 연장이 힘들어지면 경제 위기로 전이도 가능채권투자 방송 해설 ...   2주 전      202305   \n",
       "515  인터뷰 예사롭지 않은 조짐 2008년 금융위기와 2023년 은행 쇼크를 만든 금리 ...   3주 전      202305   \n",
       "516              애플 테슬라 엔비디아 코인베이스 급등 미국증시 상승이유  상승종목은   2주 전      202305   \n",
       "\n",
       "                                                  LINK EXTRACT_DATE  \n",
       "0    https://youtube.com/watch?v=qbK0VMMhxrU&pp=ygU...       202305  \n",
       "1    https://youtube.com/watch?v=aCkOC2TpVuA&pp=ygU...       202305  \n",
       "2    https://youtube.com/watch?v=0gm61Cnq5OA&pp=ygU...       202305  \n",
       "3    https://youtube.com/watch?v=pEoRmrU6zeQ&pp=ygU...       202305  \n",
       "4    https://youtube.com/watch?v=M-gbtVNgd2s&pp=ygU...       202305  \n",
       "..                                                 ...          ...  \n",
       "512  https://youtube.com/watch?v=_XXBTUgdooY&pp=ygU...       202305  \n",
       "513  https://youtube.com/watch?v=zelyeCdixo0&pp=ygU...       202305  \n",
       "514  https://youtube.com/watch?v=RXQCIgO42nE&pp=ygU...       202305  \n",
       "515  https://youtube.com/watch?v=SfV6DU7l2fE&pp=ygU...       202305  \n",
       "516  https://youtube.com/watch?v=OPWk-BC39VA&pp=ygU...       202305  \n",
       "\n",
       "[517 rows x 5 columns]"
      ]
     },
     "execution_count": 6,
     "metadata": {},
     "output_type": "execute_result"
    }
   ],
   "source": [
    "ctdf =  pd.DataFrame(row,columns = col)\n",
    "ctdf"
   ]
  },
  {
   "cell_type": "code",
   "execution_count": 7,
   "id": "1f6be0ed",
   "metadata": {},
   "outputs": [],
   "source": [
    "#konlpy 세팅\n",
    "okt = Okt()"
   ]
  },
  {
   "cell_type": "code",
   "execution_count": 8,
   "id": "d3e51b28",
   "metadata": {},
   "outputs": [],
   "source": [
    "#제목 추출\n",
    "title=np.array(ctdf['TITLE'])"
   ]
  },
  {
   "cell_type": "code",
   "execution_count": 9,
   "id": "4e5023a9",
   "metadata": {},
   "outputs": [],
   "source": [
    "#제목에서 명사만 추출해서 리스트로(2차원 리스트)\n",
    "sep_title=[]\n",
    "for i in range(len(title)):\n",
    "    sep_title.append(okt.nouns(title[i]))"
   ]
  },
  {
   "cell_type": "code",
   "execution_count": 10,
   "id": "3f7627f6",
   "metadata": {},
   "outputs": [],
   "source": [
    "#2차원 -> 1차원\n",
    "words=sum(sep_title,[])"
   ]
  },
  {
   "cell_type": "code",
   "execution_count": 11,
   "id": "9c3e7960",
   "metadata": {},
   "outputs": [],
   "source": [
    "#데이터프레임 생성\n",
    "df = pd.DataFrame({'words':words})"
   ]
  },
  {
   "cell_type": "code",
   "execution_count": 12,
   "id": "8f0caf0c",
   "metadata": {},
   "outputs": [],
   "source": [
    "#중복 단어 제외\n",
    "ws = set(words)\n",
    "wl = list(ws)"
   ]
  },
  {
   "cell_type": "code",
   "execution_count": 13,
   "id": "3151e415",
   "metadata": {
    "scrolled": true
   },
   "outputs": [],
   "source": [
    "#단어 갯수 확인\n",
    "word_num=[]\n",
    "j=0\n",
    "for i in range(len(wl)):\n",
    "    word_num.append(len(df[df['words']==wl[j]]))\n",
    "    j=j+1"
   ]
  },
  {
   "cell_type": "code",
   "execution_count": 14,
   "id": "08a01073",
   "metadata": {},
   "outputs": [],
   "source": [
    "#데이터프레임 생성 및 정렬\n",
    "df1 = pd.DataFrame({'word':wl,'count':word_num})\n",
    "df1s = df1.sort_values('count',ascending=False)"
   ]
  },
  {
   "cell_type": "code",
   "execution_count": 15,
   "id": "7c4a5542",
   "metadata": {},
   "outputs": [
    {
     "data": {
      "text/html": [
       "<div>\n",
       "<style scoped>\n",
       "    .dataframe tbody tr th:only-of-type {\n",
       "        vertical-align: middle;\n",
       "    }\n",
       "\n",
       "    .dataframe tbody tr th {\n",
       "        vertical-align: top;\n",
       "    }\n",
       "\n",
       "    .dataframe thead th {\n",
       "        text-align: right;\n",
       "    }\n",
       "</style>\n",
       "<table border=\"1\" class=\"dataframe\">\n",
       "  <thead>\n",
       "    <tr style=\"text-align: right;\">\n",
       "      <th></th>\n",
       "      <th>word</th>\n",
       "      <th>count</th>\n",
       "    </tr>\n",
       "  </thead>\n",
       "  <tbody>\n",
       "    <tr>\n",
       "      <th>1017</th>\n",
       "      <td>은행</td>\n",
       "      <td>138</td>\n",
       "    </tr>\n",
       "    <tr>\n",
       "      <th>2124</th>\n",
       "      <td>미국</td>\n",
       "      <td>103</td>\n",
       "    </tr>\n",
       "    <tr>\n",
       "      <th>703</th>\n",
       "      <td>지역</td>\n",
       "      <td>80</td>\n",
       "    </tr>\n",
       "    <tr>\n",
       "      <th>88</th>\n",
       "      <td>위기</td>\n",
       "      <td>63</td>\n",
       "    </tr>\n",
       "    <tr>\n",
       "      <th>2062</th>\n",
       "      <td>증시</td>\n",
       "      <td>51</td>\n",
       "    </tr>\n",
       "    <tr>\n",
       "      <th>1345</th>\n",
       "      <td>부채</td>\n",
       "      <td>42</td>\n",
       "    </tr>\n",
       "    <tr>\n",
       "      <th>1400</th>\n",
       "      <td>뉴스</td>\n",
       "      <td>41</td>\n",
       "    </tr>\n",
       "    <tr>\n",
       "      <th>1209</th>\n",
       "      <td>주식</td>\n",
       "      <td>41</td>\n",
       "    </tr>\n",
       "    <tr>\n",
       "      <th>159</th>\n",
       "      <td>부동산</td>\n",
       "      <td>37</td>\n",
       "    </tr>\n",
       "    <tr>\n",
       "      <th>81</th>\n",
       "      <td>금리</td>\n",
       "      <td>36</td>\n",
       "    </tr>\n",
       "    <tr>\n",
       "      <th>1505</th>\n",
       "      <td>한도</td>\n",
       "      <td>34</td>\n",
       "    </tr>\n",
       "  </tbody>\n",
       "</table>\n",
       "</div>"
      ],
      "text/plain": [
       "     word  count\n",
       "1017   은행    138\n",
       "2124   미국    103\n",
       "703    지역     80\n",
       "88     위기     63\n",
       "2062   증시     51\n",
       "1345   부채     42\n",
       "1400   뉴스     41\n",
       "1209   주식     41\n",
       "159   부동산     37\n",
       "81     금리     36\n",
       "1505   한도     34"
      ]
     },
     "execution_count": 15,
     "metadata": {},
     "output_type": "execute_result"
    }
   ],
   "source": [
    "#상위 11개\n",
    "df1s.head(11)"
   ]
  }
 ],
 "metadata": {
  "kernelspec": {
   "display_name": "Python 3 (ipykernel)",
   "language": "python",
   "name": "python3"
  },
  "language_info": {
   "codemirror_mode": {
    "name": "ipython",
    "version": 3
   },
   "file_extension": ".py",
   "mimetype": "text/x-python",
   "name": "python",
   "nbconvert_exporter": "python",
   "pygments_lexer": "ipython3",
   "version": "3.10.9"
  }
 },
 "nbformat": 4,
 "nbformat_minor": 5
}
