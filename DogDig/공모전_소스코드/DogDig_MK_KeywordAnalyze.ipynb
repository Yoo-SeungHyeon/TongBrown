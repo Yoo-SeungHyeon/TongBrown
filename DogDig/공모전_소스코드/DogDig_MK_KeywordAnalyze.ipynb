{
 "cells": [
  {
   "cell_type": "code",
   "execution_count": 1,
   "id": "e4718d3c",
   "metadata": {},
   "outputs": [],
   "source": [
    "from selenium import webdriver\n",
    "from time import sleep\n",
    "from bs4 import BeautifulSoup\n",
    "from urllib.parse import quote\n",
    "from selenium.webdriver.common.by import By\n",
    "from selenium.webdriver.support.ui import WebDriverWait\n",
    "from selenium.webdriver.common.keys import Keys\n",
    "from webdriver_manager.chrome import ChromeDriverManager\n",
    "import datetime\n",
    "import time\n",
    "import random\n",
    "import cx_Oracle\n",
    "import re\n",
    "from selenium.webdriver.chrome.service import Service\n",
    "from openpyxl import Workbook\n",
    "from selenium.common.exceptions import ElementNotInteractableException ## 추가됨\n",
    "from selenium.common.exceptions import NoSuchElementException ## 추가됨\n",
    "import sys ## 추가됨\n",
    "import pandas as pd\n",
    "import numpy as np\n",
    "from konlpy.tag import Okt"
   ]
  },
  {
   "cell_type": "code",
   "execution_count": 2,
   "id": "0094d6fa",
   "metadata": {},
   "outputs": [],
   "source": [
    "#sql문으로 db에서 값 가져오기\n",
    "def make_df(sql):\n",
    "    conn = cx_Oracle.connect(user='admin', password='Tongbrown@23', dsn='tongbrown_high')\n",
    "    cs = conn.cursor()\n",
    "    sql = sql\n",
    "    cs.execute(sql)\n",
    "    row = cs.fetchall()\n",
    "    colname = cs.description\n",
    "    col = []\n",
    "    for i in colname:\n",
    "        col.append(i[0])\n",
    "    df =  pd.DataFrame(row,columns = col)\n",
    "    return df"
   ]
  },
  {
   "cell_type": "code",
   "execution_count": 3,
   "id": "f1a6e473",
   "metadata": {},
   "outputs": [],
   "source": [
    "# okt를 통한 명사 분석 = 키워드 추출\n",
    "def keyword_okt_noun(column):\n",
    "    okt = Okt()\n",
    "    arr = np.array(column)\n",
    "    temp = []\n",
    "    for i in range(len(arr)):\n",
    "        temp.append(okt.nouns(arr[i]))\n",
    "    noun = sum(temp,[])\n",
    "    df = pd.DataFrame({'Noun':noun})\n",
    "    noun_set = set(noun)\n",
    "    noun_kind = list(noun_set)\n",
    "    num=[]\n",
    "    j=0\n",
    "    for i in range(len(noun_kind)):\n",
    "        num.append(len(df[df['Noun']==noun_kind[j]]))\n",
    "        j=j+1\n",
    "    #데이터프레임 생성 및 정렬\n",
    "    df1 = pd.DataFrame({'Noun':noun_kind,'count':num})\n",
    "    df1s = df1.sort_values('count',ascending=False)\n",
    "    return df1s"
   ]
  },
  {
   "cell_type": "code",
   "execution_count": 4,
   "id": "a37f2d56",
   "metadata": {},
   "outputs": [],
   "source": [
    "def mk_nc_insert(mk_nc_df):\n",
    "    df = mk_nc_df\n",
    "    NOUN = list(df['Noun'])\n",
    "    COUNT = list(df['count'])\n",
    "    MAIN_K = select_main()[0][0] \n",
    "    \n",
    "    conn = cx_Oracle.connect(user='admin', password='Tongbrown@23', dsn='tongbrown_high')\n",
    "    print('DB connect 성공!!')\n",
    "    cs = conn.cursor()\n",
    "    sql = \"INSERT INTO MAIN_NOUN_COUNT (MAIN_K, NOUN, COUNT) VALUES(:1, :2, :3)\"\n",
    "    \n",
    "    for i in range(len(df)):\n",
    "        cs.execute(sql, (MAIN_K, NOUN[i], COUNT[i]))\n",
    "        \n",
    "    print('INSERT 성공!!')\n",
    "    cs.close()\n",
    "    conn.commit()\n",
    "    conn.close()"
   ]
  },
  {
   "cell_type": "code",
   "execution_count": 5,
   "id": "bf8ac6de",
   "metadata": {},
   "outputs": [],
   "source": [
    "#메인 키워드 가져오기.\n",
    "def select_main():\n",
    "    conn = cx_Oracle.connect(user='admin', password='Tongbrown@23', dsn='tongbrown_high')\n",
    "    cs = conn.cursor()\n",
    "    select_main_keyword= 'select MAIN_K from MAIN_KEYWORD'\n",
    "    cs.execute(select_main_keyword)\n",
    "    \n",
    "    main_keyword = cs.fetchall()\n",
    "    cs.close()\n",
    "    conn.close()\n",
    "    return main_keyword"
   ]
  },
  {
   "cell_type": "code",
   "execution_count": null,
   "id": "0e30d795",
   "metadata": {},
   "outputs": [],
   "source": [
    "def word_cloud():\n",
    "    "
   ]
  },
  {
   "cell_type": "code",
   "execution_count": 6,
   "id": "46b62afc",
   "metadata": {},
   "outputs": [],
   "source": [
    "cx_Oracle.init_oracle_client(lib_dir=r\"C:\\instantclient-basic-windows.x64-21.9.0.0.0dbru\\instantclient_21_9\")"
   ]
  },
  {
   "cell_type": "code",
   "execution_count": 7,
   "id": "ef185c92",
   "metadata": {},
   "outputs": [
    {
     "name": "stdout",
     "output_type": "stream",
     "text": [
      "     Noun  count\n",
      "93     은행     12\n",
      "13     위기      7\n",
      "83     미국      4\n",
      "14      돈      3\n",
      "151    금리      3\n",
      "107    진짜      3\n",
      "45     경제      3\n",
      "130  한국은행      3\n",
      "22    퍼스트      2\n",
      "39     대출      2\n",
      "141  리퍼블릭      2\n",
      "85     투자      2\n",
      "7      동결      2\n",
      "86     지역      2\n",
      "5      한국      2\n",
      "115     문      1\n",
      "110   대장동      1\n",
      "106     법      1\n",
      "108    제보      1\n",
      "109     버      1\n",
      "DB connect 성공!!\n",
      "INSERT 성공!!\n"
     ]
    }
   ],
   "source": [
    "if __name__ == '__main__':\n",
    "    MK_DF = make_df('SELECT * FROM MAIN_TITLE WHERE TITLE IS NOT NULL')\n",
    "    MK_NC = keyword_okt_noun(MK_DF['TITLE']).head(20)\n",
    "    print(MK_NC)\n",
    "    mk_nc_insert(MK_NC)"
   ]
  },
  {
   "cell_type": "code",
   "execution_count": null,
   "id": "76fe46ee",
   "metadata": {},
   "outputs": [],
   "source": []
  }
 ],
 "metadata": {
  "kernelspec": {
   "display_name": "Python 3 (ipykernel)",
   "language": "python",
   "name": "python3"
  },
  "language_info": {
   "codemirror_mode": {
    "name": "ipython",
    "version": 3
   },
   "file_extension": ".py",
   "mimetype": "text/x-python",
   "name": "python",
   "nbconvert_exporter": "python",
   "pygments_lexer": "ipython3",
   "version": "3.10.9"
  }
 },
 "nbformat": 4,
 "nbformat_minor": 5
}
