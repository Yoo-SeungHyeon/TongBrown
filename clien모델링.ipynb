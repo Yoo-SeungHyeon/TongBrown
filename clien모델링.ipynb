{
 "cells": [
  {
   "cell_type": "code",
   "execution_count": 1,
   "id": "417cf045",
   "metadata": {},
   "outputs": [],
   "source": [
    "import cx_Oracle\n",
    "from konlpy.tag import Okt\n",
    "\n",
    "url_code = \"03\"\n",
    "def db_remake():\n",
    "    conn = cx_Oracle.connect(user='admin', password='Tongbrown@23', dsn='tongbrown_high')\n",
    "    select_sql = 'select ID, DATA_title, DATA_COUNT, DATE_WRITE from clien_table where DATA_TITLE is not null'\n",
    "\n",
    "    cs = conn.cursor()\n",
    "    okt = Okt()\n",
    "    cs.execute(select_sql)\n",
    "\n",
    "    rows = cs.fetchall()\n",
    "\n",
    "    for row in rows:\n",
    "        # print(row[1])\n",
    "        # print(okt.morphs(row[1]))  #=> 나누기만함\n",
    "        # print(okt.normalize(row[1]))\n",
    "        \n",
    "        \"\"\"\n",
    "        pos_tags = okt.pos(row[1])\n",
    "        adjectives = [word for word, pos in pos_tags if pos == 'Adjective']\n",
    "        print(adjectives)\n",
    "        \"\"\"\n",
    "        # print(okt.nouns(row[1])) # => 명사만\n",
    "        ID = row[0]\n",
    "        count = row[2]\n",
    "        date = row[3]\n",
    "        nouns_t = okt.nouns(row[1])\n",
    "        for noun in nouns_t:\n",
    "            sql = \"INSERT INTO clien_noun (ID, noun, DATA_COUNT, DATE_WRITE) VALUES (:1,:2,:3,:4)\"\n",
    "            cs.execute(sql, (ID, noun, count, date))\n",
    "\n",
    "    conn.commit()\n",
    "    cs.close()\n",
    "    conn.close()\n",
    "\n",
    "if __name__ == '__main__':\n",
    "    cx_Oracle.init_oracle_client(lib_dir=r\"C:\\instantclient-basic-windows.x64-21.9.0.0.0dbru\\instantclient_21_9\")\n",
    "    db_remake()"
   ]
  }
 ],
 "metadata": {
  "kernelspec": {
   "display_name": "Python 3 (ipykernel)",
   "language": "python",
   "name": "python3"
  },
  "language_info": {
   "codemirror_mode": {
    "name": "ipython",
    "version": 3
   },
   "file_extension": ".py",
   "mimetype": "text/x-python",
   "name": "python",
   "nbconvert_exporter": "python",
   "pygments_lexer": "ipython3",
   "version": "3.9.12"
  }
 },
 "nbformat": 4,
 "nbformat_minor": 5
}
