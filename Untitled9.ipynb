{
 "cells": [
  {
   "cell_type": "code",
   "execution_count": 1,
   "id": "bf766221",
   "metadata": {},
   "outputs": [
    {
     "name": "stdout",
     "output_type": "stream",
     "text": [
      "Collecting konlpy\n",
      "  Using cached konlpy-0.6.0-py2.py3-none-any.whl (19.4 MB)\n",
      "Collecting JPype1>=0.7.0\n",
      "  Downloading JPype1-1.4.1-cp39-cp39-win_amd64.whl (345 kB)\n",
      "Collecting lxml>=4.1.0\n",
      "  Downloading lxml-4.9.2-cp39-cp39-win_amd64.whl (3.9 MB)\n",
      "Requirement already satisfied: numpy>=1.6 in c:\\users\\hyeon\\miniconda3\\lib\\site-packages (from konlpy) (1.22.3)\n",
      "Requirement already satisfied: packaging in c:\\users\\hyeon\\appdata\\roaming\\python\\python39\\site-packages (from JPype1>=0.7.0->konlpy) (21.3)\n",
      "Requirement already satisfied: pyparsing!=3.0.5,>=2.0.2 in c:\\users\\hyeon\\appdata\\roaming\\python\\python39\\site-packages (from packaging->JPype1>=0.7.0->konlpy) (3.0.9)\n",
      "Installing collected packages: lxml, JPype1, konlpy\n",
      "Successfully installed JPype1-1.4.1 konlpy-0.6.0 lxml-4.9.2\n",
      "Note: you may need to restart the kernel to use updated packages.\n"
     ]
    }
   ],
   "source": [
    "pip install konlpy"
   ]
  },
  {
   "cell_type": "code",
   "execution_count": 2,
   "id": "2eb45079",
   "metadata": {},
   "outputs": [],
   "source": [
    "import konlpy"
   ]
  },
  {
   "cell_type": "code",
   "execution_count": 3,
   "id": "1526fd5c",
   "metadata": {},
   "outputs": [],
   "source": [
    "from konlpy.tag import Okt"
   ]
  },
  {
   "cell_type": "code",
   "execution_count": 6,
   "id": "e21135d4",
   "metadata": {},
   "outputs": [
    {
     "name": "stdout",
     "output_type": "stream",
     "text": [
      "['좋다', '좋았다', '좋았었다', '좋다', '좋았다']\n"
     ]
    }
   ],
   "source": [
    "okt = Okt()\n",
    "text = '좋다 좋았다 좋았었다 좋다좋았다'\n",
    "print(okt.morphs(text))"
   ]
  },
  {
   "cell_type": "code",
   "execution_count": 7,
   "id": "e5a13b7d",
   "metadata": {},
   "outputs": [],
   "source": [
    "import os"
   ]
  },
  {
   "cell_type": "code",
   "execution_count": 9,
   "id": "d1bd15b9",
   "metadata": {},
   "outputs": [
    {
     "data": {
      "text/plain": [
       "'C:\\\\Users\\\\Hyeon'"
      ]
     },
     "execution_count": 9,
     "metadata": {},
     "output_type": "execute_result"
    }
   ],
   "source": [
    "os.getcwd()"
   ]
  },
  {
   "cell_type": "code",
   "execution_count": 12,
   "id": "808968ca",
   "metadata": {},
   "outputs": [
    {
     "name": "stdout",
     "output_type": "stream",
     "text": [
      "Collecting selenium\n",
      "  Using cached selenium-4.9.1-py3-none-any.whl (6.6 MB)\n",
      "Collecting trio~=0.17\n",
      "  Using cached trio-0.22.0-py3-none-any.whl (384 kB)\n",
      "Collecting trio-websocket~=0.9\n",
      "  Using cached trio_websocket-0.10.2-py3-none-any.whl (17 kB)\n",
      "Requirement already satisfied: certifi>=2021.10.8 in c:\\users\\hyeon\\miniconda3\\lib\\site-packages (from selenium) (2022.6.15)\n",
      "Requirement already satisfied: urllib3[socks]<3,>=1.26 in c:\\users\\hyeon\\miniconda3\\lib\\site-packages (from selenium) (1.26.8)\n",
      "Collecting exceptiongroup>=1.0.0rc9\n",
      "  Using cached exceptiongroup-1.1.1-py3-none-any.whl (14 kB)\n",
      "Collecting sniffio\n",
      "  Using cached sniffio-1.3.0-py3-none-any.whl (10 kB)\n",
      "Requirement already satisfied: cffi>=1.14 in c:\\users\\hyeon\\miniconda3\\lib\\site-packages (from trio~=0.17->selenium) (1.15.0)\n",
      "Requirement already satisfied: idna in c:\\users\\hyeon\\miniconda3\\lib\\site-packages (from trio~=0.17->selenium) (3.3)\n",
      "Requirement already satisfied: attrs>=19.2.0 in c:\\users\\hyeon\\miniconda3\\lib\\site-packages (from trio~=0.17->selenium) (21.4.0)\n",
      "Collecting sortedcontainers\n",
      "  Using cached sortedcontainers-2.4.0-py2.py3-none-any.whl (29 kB)\n",
      "Collecting async-generator>=1.9\n",
      "  Using cached async_generator-1.10-py3-none-any.whl (18 kB)\n",
      "Collecting outcome\n",
      "  Using cached outcome-1.2.0-py2.py3-none-any.whl (9.7 kB)\n",
      "Requirement already satisfied: pycparser in c:\\users\\hyeon\\miniconda3\\lib\\site-packages (from cffi>=1.14->trio~=0.17->selenium) (2.21)\n",
      "Collecting wsproto>=0.14\n",
      "  Using cached wsproto-1.2.0-py3-none-any.whl (24 kB)\n",
      "Requirement already satisfied: PySocks!=1.5.7,<2.0,>=1.5.6 in c:\\users\\hyeon\\miniconda3\\lib\\site-packages (from urllib3[socks]<3,>=1.26->selenium) (1.7.1)\n",
      "Collecting h11<1,>=0.9.0\n",
      "  Using cached h11-0.14.0-py3-none-any.whl (58 kB)\n",
      "Installing collected packages: sortedcontainers, sniffio, outcome, h11, exceptiongroup, async-generator, wsproto, trio, trio-websocket, selenium\n",
      "Successfully installed async-generator-1.10 exceptiongroup-1.1.1 h11-0.14.0 outcome-1.2.0 selenium-4.9.1 sniffio-1.3.0 sortedcontainers-2.4.0 trio-0.22.0 trio-websocket-0.10.2 wsproto-1.2.0\n",
      "Note: you may need to restart the kernel to use updated packages.\n"
     ]
    }
   ],
   "source": [
    "pip install selenium"
   ]
  },
  {
   "cell_type": "code",
   "execution_count": 13,
   "id": "b4aa52ce",
   "metadata": {},
   "outputs": [],
   "source": [
    "import selenium\n",
    "from selenium import webdriver\n",
    "from selenium.webdriver.common.keys import Keys\n",
    "\n",
    "driver = webdriver.Chrome()"
   ]
  },
  {
   "cell_type": "code",
   "execution_count": 14,
   "id": "d10ad083",
   "metadata": {},
   "outputs": [],
   "source": [
    "import re"
   ]
  },
  {
   "cell_type": "code",
   "execution_count": 15,
   "id": "57146654",
   "metadata": {},
   "outputs": [
    {
     "name": "stdout",
     "output_type": "stream",
     "text": [
      "해외직구 vs 국내정발 커세어 헤드셋\n",
      "26\n",
      "21:42\n",
      "/bbs/qb_free/views/8174972\n",
      "6개월간의 드래곤볼이 드디어 끝나 첫 조립이 완성\n",
      "67\n",
      "21:36\n",
      "/bbs/qb_free/views/8174969\n",
      "커피 당첨\n",
      "32\n",
      "21:14\n",
      "/bbs/qb_free/views/8174941\n",
      "리안리 rgb케이블을 샀는데 개봉품이 왔네요 ㅠ\n",
      "92\n",
      "21:02\n",
      "/bbs/qb_free/views/8174922\n",
      "윤하  MINDSET 앨범 발매\n",
      "59\n",
      "21:00\n",
      "/bbs/qb_free/views/8174919\n",
      "인도 극딜하는 중국 근황\n",
      "169\n",
      "20:59\n",
      "/bbs/qb_free/views/8174918\n",
      "여친 컴만들어주기 이번주 금 조립합니다\n",
      "94\n",
      "20:48\n",
      "/bbs/qb_free/views/8174903\n",
      "형들 궁금한게있어 iot로 집을 한번 만들어보려는데\n",
      "62\n",
      "20:43\n",
      "/bbs/qb_free/views/8174899\n",
      "4070ti 아수스 터프vs 이엠텍 게임락\n",
      "166\n",
      "20:27\n",
      "/bbs/qb_free/views/8174883\n",
      "아 병목\n",
      "55\n",
      "20:25\n",
      "/bbs/qb_free/views/8174882\n",
      "앱코 g40 본체 엄청 작네요\n",
      "67\n",
      "20:22\n",
      "/bbs/qb_free/views/8174881\n",
      "법규 안지키면 강력하게 처벌 해야됨\n",
      "77\n",
      "20:22\n",
      "/bbs/qb_free/views/8174880\n",
      "티몬 파워적립 막힌듯하네요\n",
      "123\n",
      "20:15\n",
      "/bbs/qb_free/views/8174877\n",
      "드래곤볼이 서서히 모여가고 있습니다\n",
      "34\n",
      "20:10\n",
      "/bbs/qb_free/views/8174873\n",
      "20년만에 조립 이게 최선인가 봅니다 ㄷㄷㄷ\n",
      "135\n",
      "20:01\n",
      "/bbs/qb_free/views/8174870\n",
      "지름신이 꿈틀대서 미치겠어요\n",
      "49\n",
      "19:53\n",
      "/bbs/qb_free/views/8174863\n",
      "요즘 컴퓨터나 부품 구매\n",
      "94\n",
      "19:52\n",
      "/bbs/qb_free/views/8174861\n",
      "한화 팬만 할 수 있는 최고의 프러포즈\n",
      "109\n",
      "19:44\n",
      "/bbs/qb_free/views/8174854\n",
      "긱바는 디아 안주는거 맞죠\n",
      "196\n",
      "19:18\n",
      "/bbs/qb_free/views/8174844\n",
      "생각에없던 지름이 강림해버렸습니다\n",
      "63\n",
      "19:10\n",
      "/bbs/qb_free/views/8174841\n",
      "티몬 RTX 40라인업 재고 추가로 들어왔네요\n",
      "217\n",
      "18:59\n",
      "/bbs/qb_free/views/8174837\n",
      "허리 목 디스크 있으신 분들중 안마의자 고민중이신분들\n",
      "145\n",
      "18:35\n",
      "/bbs/qb_free/views/8174820\n",
      "퀘존 사이트 추천 취소가 한 번밖에 안되는 이유\n",
      "125\n",
      "18:31\n",
      "/bbs/qb_free/views/8174817\n",
      "kt의 양아치스러운 장사법 선불인터넷 100메가 할사람들 참고하세\n",
      "306\n",
      "18:07\n",
      "/bbs/qb_free/views/8174794\n",
      "달팽이 고츄\n",
      "239\n",
      "17:33\n",
      "/bbs/qb_free/views/8174758\n",
      "일본 여행 갔다 왔습니다 후기\n",
      "423\n",
      "17:19\n",
      "/bbs/qb_free/views/8174748\n",
      "크리에이티브 페블 프로 지름 후기\n",
      "203\n",
      "17:01\n",
      "/bbs/qb_free/views/8174732\n",
      "빅스마일데이 완본체는 볼게 없는건가요\n",
      "124\n",
      "16:55\n",
      "/bbs/qb_free/views/8174725\n",
      "날도 더운데 음악이나 들으시죠\n",
      "110\n",
      "15:53\n",
      "/bbs/qb_free/views/8174659\n",
      "빅호구데이 마땅히 살게없네요\n",
      "265\n",
      "15:51\n",
      "/bbs/qb_free/views/8174658\n"
     ]
    }
   ],
   "source": [
    "import requests\n",
    "from bs4 import BeautifulSoup\n",
    "from konlpy.tag import Komoran\n",
    "import re\n",
    "\n",
    "url2 = \"https://quasarzone.com/bbs/qb_free\"\n",
    "url_code = \"02\"\n",
    "\n",
    "response = requests.get(url2)\n",
    "\n",
    "\n",
    "def cleansing_sentence(input_string):\n",
    "    string_pattern = re.compile(r'[^ㄱ-힣 0-9 a-z A-Z]')\n",
    "    cleansing_string = string_pattern.sub('', input_string)\n",
    "    return cleansing_string\n",
    "\n",
    "if response.status_code == 200:\n",
    "    soup = BeautifulSoup(response.text, \"html.parser\")\n",
    "\n",
    "    div = soup.select_one('div.dabate-type-list')\n",
    "\n",
    "    titles = div.select('table > tbody > tr > td > p > a')\n",
    "    counts = div.select('table > tbody > tr > td > span.count')\n",
    "    date = div.select('table > tbody > tr > td > span.date')\n",
    "    link = div.select('table > tbody > tr > td > p > a.subject-link')\n",
    "    title_list =[]\n",
    "    \n",
    "    i=0\n",
    "\n",
    "    for title in titles:\n",
    "        title = cleansing_sentence(title.get_text())\n",
    "        title_list.append(title.strip())\n",
    "        counts[i] = counts[i].get_text().strip()\n",
    "        date[i] = date[i].get_text().strip()\n",
    "        link[i] = link[i].get('href')\n",
    "        print(title.strip())\n",
    "        print(counts[i])\n",
    "        print(date[i])\n",
    "        print(link[i])\n",
    "        \n",
    "        i = i + 1\n",
    "    # print(title_list)"
   ]
  },
  {
   "cell_type": "code",
   "execution_count": 16,
   "id": "a76f784c",
   "metadata": {},
   "outputs": [
    {
     "name": "stdout",
     "output_type": "stream",
     "text": [
      "Collecting oracledb\n",
      "  Downloading oracledb-1.3.1-cp39-cp39-win_amd64.whl (1.2 MB)\n",
      "Requirement already satisfied: cryptography>=3.2.1 in c:\\users\\hyeon\\miniconda3\\lib\\site-packages (from oracledb) (36.0.0)\n",
      "Requirement already satisfied: cffi>=1.12 in c:\\users\\hyeon\\miniconda3\\lib\\site-packages (from cryptography>=3.2.1->oracledb) (1.15.0)\n",
      "Requirement already satisfied: pycparser in c:\\users\\hyeon\\miniconda3\\lib\\site-packages (from cffi>=1.12->cryptography>=3.2.1->oracledb) (2.21)\n",
      "Installing collected packages: oracledb\n",
      "Successfully installed oracledb-1.3.1\n",
      "Note: you may need to restart the kernel to use updated packages.\n"
     ]
    }
   ],
   "source": [
    "pip install oracledb --upgrade"
   ]
  },
  {
   "cell_type": "code",
   "execution_count": null,
   "id": "8af46d3c",
   "metadata": {},
   "outputs": [],
   "source": [
    "import cx_Oracle\n",
    "\n"
   ]
  }
 ],
 "metadata": {
  "kernelspec": {
   "display_name": "Python 3 (ipykernel)",
   "language": "python",
   "name": "python3"
  },
  "language_info": {
   "codemirror_mode": {
    "name": "ipython",
    "version": 3
   },
   "file_extension": ".py",
   "mimetype": "text/x-python",
   "name": "python",
   "nbconvert_exporter": "python",
   "pygments_lexer": "ipython3",
   "version": "3.9.12"
  }
 },
 "nbformat": 4,
 "nbformat_minor": 5
}
