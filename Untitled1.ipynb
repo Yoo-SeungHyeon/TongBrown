{
 "cells": [
  {
   "cell_type": "code",
   "execution_count": 1,
   "id": "19011605",
   "metadata": {},
   "outputs": [],
   "source": [
    "import requests\n",
    "from bs4 import BeautifulSoup\n",
    "import cx_Oracle\n",
    "import re"
   ]
  },
  {
   "cell_type": "code",
   "execution_count": 3,
   "id": "96a72951",
   "metadata": {},
   "outputs": [],
   "source": [
    "cx_Oracle.init_oracle_client(lib_dir=r\"C:\\instantclient-basic-windows.x64-21.9.0.0.0dbru\\instantclient_21_9\")"
   ]
  },
  {
   "cell_type": "code",
   "execution_count": 5,
   "id": "ce927900",
   "metadata": {},
   "outputs": [
    {
     "name": "stdout",
     "output_type": "stream",
     "text": [
      "\n",
      "DB connect 성공!!\n",
      "\n"
     ]
    }
   ],
   "source": [
    "conn = cx_Oracle.connect(user='admin', password='Tongbrown@23', dsn='tongbrown_high')\n",
    "\n",
    "print('')\n",
    "print('DB connect 성공!!')\n",
    "print('')\n",
    "\n",
    "cs = conn.cursor()"
   ]
  },
  {
   "cell_type": "code",
   "execution_count": 14,
   "id": "820aee63",
   "metadata": {},
   "outputs": [],
   "source": [
    "sql_get = \"\"\"  SELECT * FROM clien_table\n",
    "                    WHERE ROWNUM =1 \"\"\"   \n",
    "cs.execute(sql_get)\n",
    "head_rows = cs.fetchall()"
   ]
  },
  {
   "cell_type": "code",
   "execution_count": 20,
   "id": "dab8f5d6",
   "metadata": {},
   "outputs": [
    {
     "data": {
      "text/plain": [
       "[('03',\n",
       "  '올 30인데 세금까지개미들 증시서 짐 싼다',\n",
       "  '2368',\n",
       "  '20230518',\n",
       "  '2022-10-26 18:41:26',\n",
       "  37022)]"
      ]
     },
     "execution_count": 20,
     "metadata": {},
     "output_type": "execute_result"
    }
   ],
   "source": [
    "head_rows"
   ]
  },
  {
   "cell_type": "code",
   "execution_count": null,
   "id": "93b06003",
   "metadata": {},
   "outputs": [],
   "source": []
  }
 ],
 "metadata": {
  "kernelspec": {
   "display_name": "Python 3 (ipykernel)",
   "language": "python",
   "name": "python3"
  },
  "language_info": {
   "codemirror_mode": {
    "name": "ipython",
    "version": 3
   },
   "file_extension": ".py",
   "mimetype": "text/x-python",
   "name": "python",
   "nbconvert_exporter": "python",
   "pygments_lexer": "ipython3",
   "version": "3.9.12"
  }
 },
 "nbformat": 4,
 "nbformat_minor": 5
}
